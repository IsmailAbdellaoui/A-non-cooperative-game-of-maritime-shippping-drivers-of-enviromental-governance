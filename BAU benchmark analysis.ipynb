{
 "cells": [
  {
   "cell_type": "code",
   "execution_count": 1,
   "metadata": {},
   "outputs": [],
   "source": [
    "import numpy as np # importing numpy for matrix operations \n",
    "from scipy import *\n",
    "from scipy.optimize import minimize\n",
    "import pandas as pd\n",
    "import matplotlib.pyplot as plt\n",
    "import seaborn as sns\n",
    "from IPython import display \n",
    "import itertools\n",
    "from IPython.display import display"
   ]
  },
  {
   "cell_type": "markdown",
   "metadata": {},
   "source": [
    "# Simulation & The Economic Model Framework\n"
   ]
  },
  {
   "cell_type": "markdown",
   "metadata": {},
   "source": [
    "### - market: containership market\n",
    "\n",
    "\n",
    "### - Route : .... ??\n",
    "\n",
    "\n",
    "### - Candidate Firms: \n",
    "1. APM-Maersk\n",
    "2. MSC – Mediterranean Shipping Company\n",
    "3. COSCO – China Ocean Shipping Company\n",
    "4. CMA-CGM\n",
    "5. Hapag-Lloyd\n",
    "6. ONE  – Ocean Network Express\n",
    "7. Evergreen Line\n",
    "8. Hyundai Merchant Marine\n",
    "9. Yang Ming Marine Transport\n",
    "10. Zim Integrated Shipping Services Ltd"
   ]
  },
  {
   "cell_type": "markdown",
   "metadata": {},
   "source": [
    "# I.Benchmark Case: All Singletons Business as usual model"
   ]
  },
  {
   "cell_type": "markdown",
   "metadata": {},
   "source": [
    "## Sub_model 1: Market Demand"
   ]
  },
  {
   "cell_type": "markdown",
   "metadata": {},
   "source": [
    "* The market is faced with the following demand function:  Source: (Parry et al., 2018)\n",
    "$$ Y_t  = (\\frac{GDP_t}{GDP_0})^v * (\\frac{P_t}{P_0})^η * Y_0  $$"
   ]
  },
  {
   "cell_type": "markdown",
   "metadata": {},
   "source": [
    "Assuming that container shipping demand in the BAU increases over time with growth in GDP, according to the income elasticity for transport, and changes in frieght prices. \n",
    "\n",
    "Future containership demand varies positively with GDP (through income elasticities) and negatively with freight rates. \n",
    "\n",
    "* $v=0.8 %$ : Constant income elasticity of demand for container shipping,ie % increases in demand for shipped products per 1% percent increase in GDP, Container Shipping demand increases with gross domestic product (𝐺𝐷𝑃𝑡 ) according to 𝜐\n",
    "\n",
    "* $η= -0.7 %$:   is the (constant) own-price elasticity of demand,  the percent change in transport work per one percent increase in freight rate  at time t expressed in (USD/transport work). Demand for transport work varies inversely with proportionate changes in shipping costs"
   ]
  },
  {
   "cell_type": "markdown",
   "metadata": {},
   "source": [
    "#### - Relationship between GDP ratio & projected growth rate\n",
    "$$ \\frac{GDP_t}{GDP_0} = (1+\\frac{G_1}{100})*...*(1+\\frac{G_t}{100}) = \\prod_{dex=1}^{t} (1+g_{dex}) $$"
   ]
  },
  {
   "cell_type": "code",
   "execution_count": 2,
   "metadata": {},
   "outputs": [],
   "source": [
    "# #############################################################\n",
    "#         Equation(1): market Demand # Y[t] \n",
    "#############################################################\n",
    "    #\"Compute market level demand based on GDP projections \" \n",
    "def market_demand(demand_income_elasticity, demand_price_elasticity,freight_rate,initial_reight_rate):\n",
    "    #---------> 1.Import real GDP growth data & compute GDP ratio : Source IMF@2020 #\n",
    "    G_df = pd.read_csv('./data/real_growth_rate.csv') #import IMF data\n",
    "    #-------> 2.Construct GDP projection path 2016-2050 based on projection growth data \n",
    "    gdp_growth= G_df.values[:,1:] \n",
    "    g =1 +(gdp_growth/100)  \n",
    "    gdp = np.array([100.00 for j in range(T)])\n",
    "    for foo in range (1,T):\n",
    "        gdp[foo] = g[:,foo]* gdp[foo-1]\n",
    "    #print(gdp)\n",
    "    #--------->  \"compute GDP ratio based on IMF@2020\"\n",
    "    gdp_ratio = np.array([1.00 for j in range(T)])\n",
    "    for moo in range (1,T):\n",
    "        sub_g = g[:,0:moo+1]\n",
    "        #print(sub_g)\n",
    "        gdp_ratio[moo] = np.prod(sub_g)\n",
    "        \n",
    "    #--------->  \"compute freight rate ratio\"\n",
    "    freight_rate_ratio_multiplied =np.power(np.divide(freight_rate,initial_reight_rate),demand_price_elasticity)\n",
    "    #print(freight_rate_ratio_multiplied)\n",
    "    #---------> \"Project Transport Demand (industry demand)\"\n",
    "    loo =np.multiply(np.power(gdp_ratio,demand_income_elasticity),freight_rate_ratio_multiplied) #Will need to be updated in case fuel prices are varied over time  \n",
    "    Y = np.multiply(loo,y_16_20[0])\n",
    "    #print(Y) # size = 1 dimesion array with size T=35 years\n",
    "    return Y, gdp"
   ]
  },
  {
   "cell_type": "code",
   "execution_count": 3,
   "metadata": {},
   "outputs": [],
   "source": [
    "###############################################################\n",
    "#  Compare model projections for 2016-2020 to actual data  #\n",
    "###############################################################\n",
    "#'this is a placeholder for when we select a route'"
   ]
  },
  {
   "cell_type": "markdown",
   "metadata": {},
   "source": [
    "## Sub_Model 2: Quota Shares Allocation\n",
    "### Firm Level demand"
   ]
  },
  {
   "cell_type": "markdown",
   "metadata": {},
   "source": [
    "#### A pure prorationing model :  Source (J. Gault et al. / Journal of Energy Finance and Development 4 (1999) \n",
    "\n",
    "This specification allocates quotas according to a rule of proportionality, based on each firm's transport capacity:\n",
    "\n",
    "$$ s_{t,i} = \\frac{n_{i} * k_{i}} {\\sum_{i} n_{i} * k_{i}} $$"
   ]
  },
  {
   "cell_type": "markdown",
   "metadata": {},
   "source": [
    "## Curent Work in progress ##"
   ]
  },
  {
   "cell_type": "code",
   "execution_count": 132,
   "metadata": {},
   "outputs": [
    {
     "data": {
      "text/plain": [
       "array([[0.47717172, 0.52282828],\n",
       "       [0.47717172, 0.52282828],\n",
       "       [0.47717172, 0.52282828],\n",
       "       [0.47717172, 0.52282828],\n",
       "       [0.47717172, 0.52282828],\n",
       "       [0.47717172, 0.52282828],\n",
       "       [0.47717172, 0.52282828],\n",
       "       [0.47717172, 0.52282828],\n",
       "       [0.47717172, 0.52282828],\n",
       "       [0.47717172, 0.52282828],\n",
       "       [0.47717172, 0.52282828],\n",
       "       [0.47717172, 0.52282828],\n",
       "       [0.47717172, 0.52282828],\n",
       "       [0.47717172, 0.52282828],\n",
       "       [0.47717172, 0.52282828],\n",
       "       [0.47717172, 0.52282828],\n",
       "       [0.47717172, 0.52282828],\n",
       "       [0.47717172, 0.52282828],\n",
       "       [0.47717172, 0.52282828],\n",
       "       [0.47717172, 0.52282828],\n",
       "       [0.47717172, 0.52282828],\n",
       "       [0.47717172, 0.52282828],\n",
       "       [0.47717172, 0.52282828],\n",
       "       [0.47717172, 0.52282828],\n",
       "       [0.47717172, 0.52282828],\n",
       "       [0.47717172, 0.52282828],\n",
       "       [0.47717172, 0.52282828],\n",
       "       [0.47717172, 0.52282828],\n",
       "       [0.47717172, 0.52282828],\n",
       "       [0.47717172, 0.52282828],\n",
       "       [0.47717172, 0.52282828],\n",
       "       [0.47717172, 0.52282828],\n",
       "       [0.47717172, 0.52282828],\n",
       "       [0.47717172, 0.52282828],\n",
       "       [0.47717172, 0.52282828]])"
      ]
     },
     "execution_count": 132,
     "metadata": {},
     "output_type": "execute_result"
    }
   ],
   "source": [
    "# #############################################################\n",
    "#         Equation(1): market share allocation\n",
    "#############################################################\n",
    "transport_capacity = np.multiply(n ,k )\n",
    "total_transport_capacity = np.tile(((np.sum(np.multiply(n,k), axis=1)).reshape(T, 1)),(1,n_firm))\n",
    "s = np.divide(transport_capacity, total_transport_capacity)\n",
    "s"
   ]
  },
  {
   "cell_type": "code",
   "execution_count": 133,
   "metadata": {},
   "outputs": [
    {
     "data": {
      "text/plain": [
       "array([[ 622126.94141414,  681653.05858586],\n",
       "       [ 657835.26161767,  720778.00891894],\n",
       "       [ 676191.06664311,  740890.12721099],\n",
       "       [ 691295.80364566,  757440.11000634],\n",
       "       [ 666853.19214092,  730658.78969547],\n",
       "       [ 694452.94867021,  760899.33579953],\n",
       "       [ 717690.17592643,  786359.93873734],\n",
       "       [ 739426.28418641,  810175.79317292],\n",
       "       [ 760646.18004426,  833426.0431645 ],\n",
       "       [ 781870.75371625,  856681.41855108],\n",
       "       [ 803687.56401464,  880585.6967273 ],\n",
       "       [ 826113.13632303,  905156.98425233],\n",
       "       [ 849164.45713853,  930413.89291893],\n",
       "       [ 872858.98693833,  956375.55385115],\n",
       "       [ 897214.6734054 ,  983061.63199541],\n",
       "       [ 922249.96502307, 1010492.34101596],\n",
       "       [ 947983.82504913, 1038688.45860591],\n",
       "       [ 974435.7458797 , 1067671.34222552],\n",
       "       [1001625.76381397, 1097462.94527966],\n",
       "       [1029574.47423094, 1128085.83374669],\n",
       "       [1058303.04718958, 1159563.20327122],\n",
       "       [1087833.24346435, 1191918.89673401],\n",
       "       [1118187.43102814, 1225177.42231195],\n",
       "       [1149388.60199512, 1259363.97204207],\n",
       "       [1181460.39003639, 1294504.44090355],\n",
       "       [1214427.08828156, 1330625.44643213],\n",
       "       [1248313.66771983, 1367754.34888185],\n",
       "       [1283145.79611457, 1405919.27194941],\n",
       "       [1318949.85744561, 1445149.12407673],\n",
       "       [1355752.97189415, 1485473.62034803],\n",
       "       [1393583.01638514, 1526923.30499777],\n",
       "       [1432468.64570306, 1569529.57454679],\n",
       "       [1472439.31419674, 1613324.7015839 ],\n",
       "       [1513525.29808991, 1658341.85921112],\n",
       "       [1555757.71841423, 1704615.14617105]])"
      ]
     },
     "execution_count": 133,
     "metadata": {},
     "output_type": "execute_result"
    }
   ],
   "source": [
    "# #############################################################\n",
    "#         Equation(5): Firm level Demand # [t][i]\n",
    "#############################################################\n",
    "# Compute firm level demand based on its market share #\n",
    "def firm_demand(s):\n",
    "    computed_demand_per_firm = np.multiply(s,Y.reshape(T,1)) #demand matrix; size=[years,firms] #TEU\n",
    "    return computed_demand_per_firm\n",
    "firm_demand(s)"
   ]
  },
  {
   "cell_type": "code",
   "execution_count": 134,
   "metadata": {},
   "outputs": [],
   "source": [
    "###############################################################\n",
    "#  Carry Over Demand??????? #\n",
    "###############################################################"
   ]
  },
  {
   "cell_type": "markdown",
   "metadata": {},
   "source": [
    "## Sub_Model 3: Fuel Consumption and Vessel Speed"
   ]
  },
  {
   "cell_type": "markdown",
   "metadata": {},
   "source": [
    "***Average fuel consumption of the Main Engine per vessel: $F_{t,i}^M$  Source: Corbett et al. (2009), Doudnikoff and Lacoste (2014)***\n",
    "\n",
    "The main engine per-trip fuel consumption per day at sea (ton/day) follows the so called cubic law of design speed and operational speed: \n",
    "$ F_0^M * (\\frac{V_s}{V_0})^3 $\n",
    "\n",
    "$$F_0^M(t/day)= SFOC_0^M(g∕kWh)* 10^{-6}(t⁄g)*EL^M(\\%)*PS^M(KW)*24(h⁄day) $$\n",
    "\n",
    "The average bunker fuel consumption for the main engine per vessel is equal its working time at sea in a year t in (day) multiplied by the main engine fuel consumption per day at sea (ton/day): \n",
    "\t\n",
    "   $$ F_{t,i}^M =F_0^M * (\\frac{V_s}{V_0})^3 * \\frac{\\tau}{24} $$\n",
    "   $$ F_{t,i}^M = (SFOC_0^M * 10^{-6}*EL^M*PS^M*24) * (\\frac{V_s}{V_0})^3 * \\frac{\\tau}{24} $$\n",
    "     \n",
    "\n",
    "***Conlusion:***\n",
    "- $ F_{t,i}^M = (SFOC_0^M * 10^{-6}*EL^M*PS^M) * (\\frac{V_s}{V_0})^3 * \\tau  $"
   ]
  },
  {
   "cell_type": "markdown",
   "metadata": {},
   "source": [
    "***Average fuel consumption of the Auxiliary Engine per vessel:$F_{t,i}^A$ Source: Corbett et al. (2009), Doudnikoff and Lacoste (2014)*** \n",
    "\n",
    "The auxiliary engine supplies the auxiliary power needed for producing electricity on board, Therfore, it has no effect when estimating fuel reductions due to slow steaming.\n",
    " \n",
    "Auxiliary engine(s) **daily** fuel consumption:\n",
    "$$ F_{i}^{0,A}(t/day)= SFOC_0^A(g∕kWh)*10^{-6}(t⁄g)*EL_{i}^A(\\%)*PS^A(KW)*24(h⁄day)$$\n",
    "\n",
    "The **average** bunker fuel consumption for the auxiliary engine for **1 vessel**: \n",
    "    \n",
    "$$F_{t,i}^A= \\frac{F_{i}^{0,A}}{24}* \\tau$$\n",
    "\n",
    "***Conlusion:***\n",
    "\n",
    "- $F_{t,i}^A= SFOC_0^A*10^{-6}*EL_{i}^A*PS^A * \\tau$"
   ]
  },
  {
   "cell_type": "markdown",
   "metadata": {},
   "source": [
    "Therfore, fuel consumption is as follow: \n",
    "$$ F_{t,i} = F_{t,i}^A +F_{t,i}^M =( F_0^M * (\\frac{V_s}{V_0})^3 * \\frac{\\tau}{24}) +(SFOC_0^A*10^{-6}*EL_{i}^A*PS^A * \\tau)  $$ "
   ]
  },
  {
   "cell_type": "markdown",
   "metadata": {},
   "source": [
    "## Sub_Model 3: profit maximisation with output and vessel speed as DV in the absence of a cartel"
   ]
  },
  {
   "cell_type": "markdown",
   "metadata": {},
   "source": [
    "***Decision Variable***: \n",
    "* $V_{t,i}$ : Vessel Speed in knots  by firm i in period t \n",
    "* $ q_{t,i} $: transported quantity \n",
    "\n",
    "***Input Parameters***\n",
    "* $r_{t,i}$: discount rate\n",
    "* $\\rho_t $: unit revenue freight rate for transporting one twenty-foot equivalent (TEU) container in USD/TEU\n",
    "* $ x_{t,i} $: volume of comodoity to be transported in TEU. \n",
    "* $ q_{t,i}$ : Transported quantity in TEU by firm i in period t \n",
    "* $TC_{t,i}$ : Total cost at period t \n",
    "* $ d$: Total direct sailing distance between ports\n",
    "* $ k_{i} $: carrying capacity of one vessel in TEU.\n",
    "* $ \\tau = 6480 ~\\ hours$: a ship can only sail 24 h a day, and spends 270 days at sea per year (Buhaug et al., 2009)"
   ]
  },
  {
   "cell_type": "markdown",
   "metadata": {},
   "source": [
    "## Model :\n",
    "Assume freight rates are exogenous in the 1st problem \n",
    "\n",
    "***For each firm i:*** \n",
    "$$ max_{(V_{t,i},q_{t,i})} ~\\ \\pi_{i} = \\sum_{t=1}^{T} (1+r_{t,i})^{-t} * [\\rho_t * q_{t,i} - TC_{t,i}(V_{t,i})) - C_{delayed}*(x_{t,i} - q_{t,i})] $$\n",
    "\n",
    "\n",
    "\n",
    "***s.t.:*** \n",
    "   - $ q_{t,i} \\leq x_{t,i} $: ***transported cargo***\n",
    "   - $ V_{min} \\leq V_{t,i} \\leq  V_{max} $: ***vessel speed constraint***\n",
    "   \n",
    "   \n",
    "   - $ x_{i,t}  = s_{i} Y_{t} +  (x_{i,t-1} - q_{t-1,i}) $: ***Allow carry over demand from previous period with penality***\n",
    "\n",
    "\n",
    "   - $ t_{sea}= \\frac{d} {V_i} $ : ***time spent in sea in hours***\n",
    "   - $ time= t_{sea} + t_{port} $: ***time spend in sea in hours by 1 representative vessel from firm i in period t*** \n",
    "   - $ \\frac {\\tau}{time} -1 < n_{trip} \\leq \\frac {\\tau}{time}$:  ***number of trips supplied by 1 vessel in a year t by firm i (floor function)***\n",
    "   - $ max_{car} = n_{trip} * k $:  ***max cargo carried by one vessel***   \n",
    "   - $ \\frac{q_{t,i}}{max_{car}} \\leq vessel_{supply} < 1+ \\frac{q_{t,i}}{max_{car}} $: ***number of vessels required to satisfy demand x (ceiling function)***  \n",
    "   - $ vessel^{supply} \\leq n $: ***vessel supply constraint***  \n",
    "\n",
    "\n",
    "   \n",
    "  \n",
    "   - $ F_{t,i} = F_{t,i}^A +F_{t,i}^M =( F_0^M * (\\frac{V_s}{V_0})^3 * \\frac{\\tau}{24}) +(SFOC_0^A*10^{-6}*EL_{i}^A*PS^A * \\tau)  $: ***fuel consumption***\n",
    "   - $ TC_{t,i} =  (p_t^{fuel} *  F_{t,i} + C^{fixed}_{t,i}  ) × vessel^{supply}_{t,i} $\n",
    "   \n",
    "   \n",
    "   \n",
    "   - $ n_{trip} \\in N $\n",
    "   - $ vessel_{supply} \\in N $\n",
    " \n",
    "   - $ q_{t,i} \\geq 0 $\n"
   ]
  },
  {
   "cell_type": "code",
   "execution_count": 7,
   "metadata": {},
   "outputs": [],
   "source": [
    "# #############################################################\n",
    "#         Equation(5):  Supply             # R[t][i]\n",
    "############################################################# \n",
    "def supply(BAU_speed,x,t_port,k,n,firm_id,q):    \n",
    "    #------->1).Compute # of trips supplied by 1 vessel in one year #\n",
    "    t_sea=np.true_divide(d,BAU_speed) #time spent in sea in hours \n",
    "    time= t_sea + t_port #time spend in sea in hours by 1 representative vessel from firm i in period t  \n",
    "    #print(time)\n",
    "    \n",
    "    n_trip = np.floor(np.true_divide(tau,time)) #number of trips supplied by 1 vessel in a year t by firm i# The floor of the scalar x is the largest integer i, such that i <= x.\n",
    "    #print('number of trips',n_trip)\n",
    "    \n",
    "    #------->2).Compute firm level Supply of ships given the fleet structurex #\n",
    "    max_car = np.multiply(n_trip,k[firm_id])\n",
    "    #print('max capa', max_car)\n",
    "        \n",
    "    #------->3).Compute # of vessels required to satisfy deamnd given vessel capacity #\n",
    "    vessel_supply = np.ceil(np.divide(q,max_car)) #number of vessels required to satisfy demand n^* , smallest integer i, such that n^*>=ratio\n",
    "    ##----->4).Compute # of vessels allocated by the firm  #\n",
    "    #vessel_supplied= np.minimum(vessel_supply,n[:,firm_id]) # firm level supply in period t\n",
    "    return vessel_supply"
   ]
  },
  {
   "cell_type": "code",
   "execution_count": 8,
   "metadata": {},
   "outputs": [],
   "source": [
    "#supply(BAU_vessel_speed_optimum[:,firm_id],x,t_port,k,n,firm_id)"
   ]
  },
  {
   "cell_type": "markdown",
   "metadata": {},
   "source": [
    "## 4. Transported Quantity:"
   ]
  },
  {
   "cell_type": "code",
   "execution_count": 9,
   "metadata": {},
   "outputs": [],
   "source": [
    "# #############################################################\n",
    "#         Equation(6):  Transported Quantity           # R[t][i]\n",
    "#############################################################\n",
    "# #Assumption no carry over demand\n",
    "#  #Compute Transported quantity by firm i in period t #\n",
    "# def transport_Q(n,k,vessel_supply,x,firm_id):\n",
    "#     zoo= np.multiply(n[:,firm_id],k[firm_id])\n",
    "#     q = (np.less_equal(vessel_supply, n[:,firm_id])).astype(int) # if (n^* < n, 1, else 0)\n",
    "#     q = np.where(q == 0, zoo, q) # if (supply> n, n*k )  #if satisfied \n",
    "#     q = np.where(q == 1, x, q) # if (n^* <= n, x)\n",
    "#     return q #satisfied Demand"
   ]
  },
  {
   "cell_type": "markdown",
   "metadata": {},
   "source": [
    "# 5. Firm's Total Cost: "
   ]
  },
  {
   "cell_type": "code",
   "execution_count": 10,
   "metadata": {},
   "outputs": [],
   "source": [
    "# #############################################################\n",
    "#         Equation(5):   Fuel Consumption          # TC[t][i]\n",
    "#############################################################\n",
    "#Place Holder idea; I might turn SFOC intoo a decision variable , \n",
    "def fuel_cons(V_s,BAU_speed,SFOC_m,SFOC_a,EL_m,EL_a,PS_m,PS_a,firm_id,vessel_supply):\n",
    "    moo=np.power(np.divide(BAU_speed,np.tile(V_s[firm_id],T)),3) \n",
    "    F_m = SFOC_m * (10**(-6)) * EL_m * PS_m[firm_id] * tau * moo # vector size = [T, #of firms], cst throughtou\n",
    "    #print(F_m)\n",
    "    F_a = SFOC_a * (10**(-6)) * EL_a * PS_a[firm_id] * tau # vector size = [1, #of firms]  \n",
    "    fuel_per_vessel =np.tile(F_a,T) + F_m #vector size =[t,n]\n",
    "    fuel = np.multiply(fuel_per_vessel,vessel_supply)\n",
    "    return fuel"
   ]
  },
  {
   "cell_type": "code",
   "execution_count": 11,
   "metadata": {},
   "outputs": [],
   "source": [
    "#fuel_cons(V_s,BAU_vessel_speed_optimum[:,1],SFOC_m,SFOC_a,EL_m,EL_a,PS_m,PS_a,1,vessel_supplied_BAU_optimum[:,1])"
   ]
  },
  {
   "cell_type": "code",
   "execution_count": 12,
   "metadata": {},
   "outputs": [],
   "source": [
    "# #############################################################\n",
    "#         Equation(6):   Total Cost             # TC[t][i]\n",
    "#############################################################\n",
    "def cost(fuel_consumed,vessel_supply,C_fix,fuel_choice,firm_id):\n",
    "    fixed_cost =  C_fix[firm_id]  * vessel_supply #Fixed Cost\n",
    "    fuel_cost =  fuel_data[(fuel_choice[firm_id])]['price'] * fuel_consumed #Fuel Cosnumption Cost\n",
    "    TC = fuel_cost + fixed_cost\n",
    "    return TC"
   ]
  },
  {
   "cell_type": "markdown",
   "metadata": {},
   "source": [
    "# 6. Emissions "
   ]
  },
  {
   "cell_type": "markdown",
   "metadata": {},
   "source": [
    "The following Table lists the emission factors of $CO_2$ and $SO_x$ for different bunkers, which has been compiled from the third IMO study and Kontovas 2014. Emission factors are in g / g of fuel\n",
    "\n",
    "| Fuel Type |tons of $CO_2$ emitted per ton of fuel burned  | tons of $SO_x$ emitted per ton of fuel burned  |\n",
    "| :- | :- | :- |\n",
    "| HFO (3.5 %) |3.114  |0.07 |   \n",
    "| ULSFO (0.5%) |3.206  | 0.01  |  \n",
    "| MGO (0.1 %) |  3.206| 0.002 |  "
   ]
  },
  {
   "cell_type": "markdown",
   "metadata": {},
   "source": [
    "-  ***Carbon dioxide emissions CO_2***\n",
    " One way to estimate $CO_2$ emissions is to multiply total bunker consumption $F_t$ by an appropriate emissions factor $ε_{CO_2}$\n",
    "$$E_{CO_2} [tonnes_{CO_2} ]=  ε_{CO_2} [\\frac{tonnes_{CO_2}}{tonnes_{fuel}}] * F_t  [tonnes_{fuel}] $$ \n",
    "\t"
   ]
  },
  {
   "cell_type": "markdown",
   "metadata": {},
   "source": [
    "- ***Sulfur oxide (SOx) emissions***\n",
    "$$ E_{SO_x} [ tonnes_{SO_x} ]  = ε_{SO_x}[\\frac{tonnes_{SO_x}}{tonnes_{fuel}}]  × F_t [tonnes_{fuel}]$$"
   ]
  },
  {
   "cell_type": "code",
   "execution_count": 13,
   "metadata": {},
   "outputs": [],
   "source": [
    "# #############################################################\n",
    "#         Equation(6):   Emmission           # TC[t][i]\n",
    "#############################################################\n",
    "def emission(firm_id,fuel_choice,fuel_consumed,factor):\n",
    "    emision_factor = fuel_data[(fuel_choice[firm_id])][factor]\n",
    "    E = emision_factor * fuel_consumed #Fuel Cosnumption Cost\n",
    "    return E"
   ]
  },
  {
   "cell_type": "markdown",
   "metadata": {},
   "source": [
    "# 7. Discounting"
   ]
  },
  {
   "cell_type": "code",
   "execution_count": 14,
   "metadata": {},
   "outputs": [],
   "source": [
    "# #############################################################\n",
    "#         Equation(6):   Discount rate [i]\n",
    "#############################################################\n",
    "def discount(t,firm_id):\n",
    "    dis_multiplier= (np.power(1+discount_rate[:,firm_id],-t))\n",
    "    return dis_multiplier "
   ]
  },
  {
   "cell_type": "markdown",
   "metadata": {},
   "source": [
    "# 7 Input and Calibration"
   ]
  },
  {
   "cell_type": "code",
   "execution_count": 131,
   "metadata": {},
   "outputs": [],
   "source": [
    "#######################################################\n",
    "#-------Time Horizon for the study:2016-2040----------#\n",
    "######################################################\n",
    "t0 = 2016 #The starting year for evaluation of the pay-offs\n",
    "T = 35  # Planning Horizon t = 2016,...,2040 # 100 year scope \n",
    "year = np.arange(2016, 2051)\n",
    "\n",
    "#######################################################\n",
    "#-------Route Characteristics----------#\n",
    "######################################################\n",
    "d = 11810 #nautical miles #Notteboom (2006)\n",
    "t_port = 280 #hours ==> 11 days in a year  #Notteboom (2006)\n",
    "\n",
    "######################################################\n",
    "#-----------Market Demand from 2016-2020 -----------#\n",
    "######################################################\n",
    "demand_income_elasticity = 0.8 #Constant income elasticity #IMF\n",
    "demand_price_elasticity = -0.7 #Constant own price elasticity#IMF\n",
    "y_16_20 = np.array([1303780  for j in range(5)]) #in TEU #placehplder to be calibrated with the chosen route \n",
    "#print(y_16_20) # Actual Port flow to validate industry projection \n",
    "\n",
    "######################################################\n",
    "#-------------- # of Agents in the market -----------#\n",
    "######################################################\n",
    "n_firm= 2 #number of firms gvoerning  the industry\n",
    "siz = T*n_firm\n",
    "#print(n_firm)\n",
    "\n",
    "#######################################/###############\n",
    "#-------------- Shares per agent------ -----------#\n",
    "######################################################\n",
    "s = np.array([0.5,0.5])#input parameter to refelct the firm's market share , has to sum to 1.\n",
    "#print(s)\n",
    "\n",
    "##############################################################\n",
    "#       Firm Level Supply,\n",
    "#############################################################\n",
    "k = np.array([5905,6470]) # TEU Post PANAMAX, PANAMAX  # Vessel capacity in TEU per firm, # vector size = [1,n_Firms]\n",
    "tau = 6480 #hours per year, assumption \n",
    "\n",
    "##############################################################\n",
    "#      Fleet Structure,\n",
    "#############################################################\n",
    "n_0 = np.array([50,50]) #Initilise # of vessel per firm at t=0, size needs to match # of firms\n",
    "n = np.tile(n_0, (T, 1)) #brodcast # of vessels along the planning horizon\n",
    "\n",
    "#-----------------------------------------------------------# \n",
    "#      Revenue Calibration ,\n",
    "#-----------------------------------------------------------#\n",
    "\n",
    "######################################################\n",
    "#-----------freight rates ---------------------------#\n",
    "######################################################\n",
    "#freight_rate_16_20 = np.array([1800 for j in range(5)]) #placehplder to be calibrated with the chosen route \n",
    "initial_reight_rate = 1800 ## in US$/TEU\n",
    "freight_rate = np.array([1800 for j in range(T)]) ## in US$/TEU\n",
    "\n",
    "#-----------------------------------------------------------# \n",
    "#      Cost Calibration ,\n",
    "#-----------------------------------------------------------#\n",
    "\n",
    "##############################################################\n",
    "#      Fuel Consumption Calibration ,\n",
    "#############################################################\n",
    "SFOC_m = 206 #g/kWh, specific daily main engine fuel oil consumption rate\n",
    "SFOC_a = 221 # specific fuel oil consumption of the auxiliary engine [g/kW h], \n",
    "EL_m = 0.8 # % \n",
    "EL_a = 0.5 # engine load of the auxiliary engine [\\%]\n",
    "\n",
    "#this inputs vaires across firm\n",
    "V_s = np.array([23.3, 24.7])  #design speed of the vessel in knots\n",
    "V_min = np.array([8.5, 8.5]) #min vessel speed\n",
    "V_max = np.array([30, 30] )#max vessel speed\n",
    "                 \n",
    "PS_m =  np.array([41186,56273])  # main engine power in kW\n",
    "PS_a =  np.array([2433,2433])  # auxiliary engine power [kW] \n",
    "\n",
    "#############################################################\n",
    "#      Operating Costs per vessel type\n",
    "#############################################################\n",
    "C_fix = np.array([6750000, 6750000 ]) #Daily cost of vessel (USD/Day) $25,000\n",
    "\n",
    "\n",
    "\n",
    "##############################################################\n",
    "#      Emission & Bunker Fuel Calibration ,\n",
    "#############################################################\n",
    "fuel_data = pd.DataFrame(np.array([[422.50, 525.50, 597.00], \n",
    "                                [3.114,3.206,3.206],\n",
    "                                [0.07,0.01,0.002]]),\n",
    "                         columns=['HFO', 'ULSFO', 'MGO'],\n",
    "                         index = ['price', 'carbon_factor', 'sulfur_factor'])\n",
    "#print(fuel_data)\n",
    "\n",
    "#############################################################\n",
    "#      Discount rate\n",
    "#############################################################\n",
    "discount_rate=np.array([[0.02,0.02] for j in range(T)])\n",
    "##3  to 5 % transport canada \n",
    "#to be updated using the Ramsey rule = pure rate of time preference of 1.5% + growth rate of consumption g * rate of risk conversion , an elasticity value of 2 "
   ]
  },
  {
   "cell_type": "markdown",
   "metadata": {},
   "source": [
    "# 8. Objective"
   ]
  },
  {
   "cell_type": "code",
   "execution_count": 16,
   "metadata": {},
   "outputs": [],
   "source": [
    "#############################################################\n",
    "#               NPV payoff per firm id                #\n",
    "#############################################################\n",
    "def dis_payoff_firm(BAU_speed,q):\n",
    "# 1. Compute firm level optimum ship supply given firm demand  #\n",
    "    vessel_supply = supply(BAU_speed,x,t_port,k,n,firm_id,q)\n",
    "# 3. Compute Firm level revenues in each period #\n",
    "    rev = np.multiply(freight_rate,q)  \n",
    "# 4. Compute  firm level fuel consumption  #    \n",
    "    fuel_consumed = fuel_cons(V_s,BAU_speed,SFOC_m,SFOC_a,EL_m,EL_a,PS_m,PS_a,firm_id,vessel_supply)\n",
    "# 5. Compute Firm level Cost in each period #\n",
    "    C =cost(fuel_consumed,vessel_supply,C_fix,fuel_choice,firm_id)\n",
    "#6.Compute CO2 emissions\n",
    "    E_car = emission(firm_id,fuel_choice,fuel_consumed,'carbon_factor')\n",
    "#7.Compute Sulfur emissions\n",
    "    E_sulfur = emission(firm_id,fuel_choice,fuel_consumed,'sulfur_factor')\n",
    "# 8. Compute Firm level profit in each period #\n",
    "    payoff_BAU = np.subtract(rev,C)\n",
    "# 9. Compute discounted Firm level profit #\n",
    "    for ind in range (T):\n",
    "        payoff_BAU_disco = np.multiply(discount(ind,firm_id),payoff_BAU[ind])  \n",
    "    #print(payoff_BAU)\n",
    "    NPV_payoff_BAU = payoff_BAU_disco.sum(axis = 0) #Sum over planning horizon\n",
    "    #print(BAU_speed)\n",
    "    #print('total payoff' ,total_payoff_BAU)\n",
    "    return NPV_payoff_BAU"
   ]
  },
  {
   "cell_type": "code",
   "execution_count": 17,
   "metadata": {},
   "outputs": [],
   "source": [
    "#############################################################\n",
    "#              Return Results               #\n",
    "#############################################################\n",
    "def dis_Results(BAU_speed,q):\n",
    "# 1. Compute firm level optimum ship supply given firm demand  #\n",
    "    vessel_supply = supply(BAU_speed,x,t_port,k,n,firm_id,q)\n",
    "# 3. Compute Firm level revenues in each period #\n",
    "    rev = np.multiply(freight_rate,q)  \n",
    "# 4. Compute  firm level fuel consumption  #    \n",
    "    fuel_consumed = fuel_cons(V_s,BAU_speed,SFOC_m,SFOC_a,EL_m,EL_a,PS_m,PS_a,firm_id,vessel_supply)\n",
    "# 5. Compute Firm level Cost in each period #\n",
    "    C =cost(fuel_consumed,vessel_supply,C_fix,fuel_choice,firm_id)\n",
    "#6.Compute CO2 emissions\n",
    "    E_car = emission(firm_id,fuel_choice,fuel_consumed,'carbon_factor')\n",
    "#7.Compute Sulfur emissions\n",
    "    E_sulfur = emission(firm_id,fuel_choice,fuel_consumed,'sulfur_factor')\n",
    "# 8. Compute Firm level profit in each period #\n",
    "    payoff_BAU = np.subtract(rev,C)\n",
    "# 9. Compute discounted Firm level profit #\n",
    "    for ind in range (T):\n",
    "        payoff_BAU_disco = np.multiply(discount(ind,firm_id),payoff_BAU[ind])  \n",
    "    #print(payoff_BAU)\n",
    "    NPV_payoff_BAU = payoff_BAU_disco.sum(axis = 0) #Sum over planning horizon\n",
    "    #print(BAU_speed)\n",
    "    #print('total payoff' ,total_payoff_BAU)   \n",
    "    return vessel_supply,q,rev,fuel_consumed,C,E_car,E_sulfur,payoff_BAU,NPV_payoff_BAU"
   ]
  },
  {
   "cell_type": "markdown",
   "metadata": {},
   "source": [
    "## Genetic algorithms implementation for solving BAU speed: 'Work in Progress' "
   ]
  },
  {
   "cell_type": "code",
   "execution_count": 18,
   "metadata": {},
   "outputs": [],
   "source": [
    " #a heuristic approach to solve "
   ]
  },
  {
   "cell_type": "code",
   "execution_count": 19,
   "metadata": {},
   "outputs": [],
   "source": [
    "############################################################################################################\n",
    "#                     I.  Current Work in progress: Genetic Algorithm t                                             #\n",
    "############################################################################################################"
   ]
  },
  {
   "cell_type": "markdown",
   "metadata": {},
   "source": [
    "# Main"
   ]
  },
  {
   "cell_type": "code",
   "execution_count": 20,
   "metadata": {},
   "outputs": [],
   "source": [
    "############################################################################################################\n",
    "#                     I.  Initisatisation of the Results                                                  #\n",
    "############################################################################################################"
   ]
  },
  {
   "cell_type": "code",
   "execution_count": 21,
   "metadata": {},
   "outputs": [],
   "source": [
    "#----> 1. BAU Vessel Speed\n",
    "BAU_vessel_speed_optimum = np.empty([T, n_firm],dtype=object)\n",
    "#----> 3. # of vessel allocation \n",
    "vessel_supply_BAU_optimum = np.empty([T, n_firm],dtype=object)\n",
    "#----> 4. # of vessel allocation \n",
    "q_BAU_optimum = np.empty([T, n_firm],dtype=object)\n",
    "#----> 5. # of vessel allocation \n",
    "rev_BAU_optimum = np.empty([T, n_firm],dtype=object)\n",
    "#----> 6. # of vessel allocation \n",
    "F_BAU_optimum = np.empty([T, n_firm],dtype=object)\n",
    "#----> 7. # of vessel allocation \n",
    "C_BAU_optimum = np.empty([T, n_firm],dtype=object)\n",
    "#----> 8. # of vessel allocation \n",
    "E_car_BAU_optimum = np.empty([T, n_firm],dtype=object)\n",
    "#----> 9. # of vessel allocation \n",
    "E_sulfur_BAU_optimum = np.empty([T, n_firm],dtype=object)\n",
    "#----> 10. # of vessel allocation \n",
    "payoff_BAU_optimum = np.empty([T, n_firm],dtype=object)\n",
    "#----> 11. # of vessel allocation \n",
    "NPV_payoff_BAU_optimum = np.empty([1, n_firm],dtype=object)"
   ]
  },
  {
   "cell_type": "code",
   "execution_count": 22,
   "metadata": {},
   "outputs": [],
   "source": [
    "#######################################################################\n",
    "#   II. Main Simulation for Computing BAU emissions and vessel Speed     #\n",
    "######################################################################"
   ]
  },
  {
   "cell_type": "code",
   "execution_count": 23,
   "metadata": {},
   "outputs": [],
   "source": [
    "#1. Compute market Demand          \n",
    "Y, gdp= market_demand(demand_income_elasticity, demand_price_elasticity,freight_rate,initial_reight_rate)"
   ]
  },
  {
   "cell_type": "code",
   "execution_count": 24,
   "metadata": {},
   "outputs": [
    {
     "data": {
      "image/png": "[encoded data removed]",
      "text/plain": [
       "<Figure size 432x288 with 1 Axes>"
      ]
     },
     "metadata": {},
     "output_type": "display_data"
    },
    {
     "data": {
      "image/png": "[encoded data removed]",
      "text/plain": [
       "<Figure size 432x288 with 1 Axes>"
      ]
     },
     "metadata": {},
     "output_type": "display_data"
    }
   ],
   "source": [
    "#======> Plotting BAU GDP,2016=100\n",
    "sns.set()\n",
    "ax=sns.lineplot(x=year ,y =gdp, color = 'red')\n",
    "ax.set(xlabel='year', ylabel='GDP')\n",
    "plt.title(\"BAU GDP,2016=100\" )\n",
    "plt.show()\n",
    "\n",
    "#======> Plotting Market Demand Projections in BAU senario: Y\n",
    "ax=sns.lineplot(x=year ,y =Y, color = 'green')\n",
    "ax.set(xlabel='year', ylabel='transport work in TEU')\n",
    "plt.title(\"market demand in TEU \" )\n",
    "plt.show()\n"
   ]
  },
  {
   "cell_type": "code",
   "execution_count": 25,
   "metadata": {},
   "outputs": [],
   "source": [
    "#2.Compute market Demand per firm:\n",
    "market_demand_per_firm = firm_quota(s) "
   ]
  },
  {
   "cell_type": "code",
   "execution_count": 26,
   "metadata": {},
   "outputs": [],
   "source": [
    "# 3. Simulation Calibration; 'Input Fuel Decision type Per firm' \n",
    "fuel_choice = np.array([\"HFO\" , \"HFO\"]) # No compliance"
   ]
  },
  {
   "cell_type": "code",
   "execution_count": 27,
   "metadata": {},
   "outputs": [
    {
     "name": "stdout",
     "output_type": "stream",
     "text": [
      "--------Next firm now\n",
      "--------Next firm now\n"
     ]
    }
   ],
   "source": [
    "# 3.Solve for BAU per firm\n",
    "for firm_id in range(n_firm):\n",
    "    # 1. select firm level vector demand in each period for each firm  \n",
    "    x = market_demand_per_firm[:,firm_id]\n",
    "    \n",
    "    #############################################################################################################\n",
    "    #                      Decision Variable Initialisatiom  #\n",
    "    ###############################################################################################################      \n",
    "    BAU_speed_in= np.array([15.08 for j in range(T)]) # knots  \n",
    "    q = x\n",
    "    \n",
    "    ##############################################################################################################\n",
    "    #                       Optimisation Algorithm for solving for vessel Speed #\n",
    "    ###############################################################################################################\n",
    "    #===============> #3. Vessel Speed levels should be between V_min and V_max 0\n",
    "    bnds = [(V_min[firm_id], V_max[firm_id])]*T\n",
    "    #===============> # 4. Solve for the Optimum BAU vessel speed for firm id\n",
    "    #BAU = minimize(dis_payoff_firm, BAU_speed_in, method='SLSQP', options={'xtol': 1e-8, 'disp': True} ,bounds=bnds,constraints=cons) \n",
    "    #===============> #5. Store Results for each firm\n",
    "    \n",
    "    ##############################################################################################################\n",
    "    #                       Vessel Speed Solution  # \n",
    "    ###############################################################################################################\n",
    "    #'place holder till I figure out the optimisation algorithm'\n",
    "    #BAU_vessel_speed_optimum[:,firm_id] = BAU.x\n",
    "    #print(\"The optimum vessel speed per firm is \",BAU_vessel_speed_optimum)\n",
    "    BAU_vessel_speed_optimum[:,firm_id] = BAU_speed_in\n",
    "    \n",
    "    ##############################################################################################################\n",
    "    #                       Store Results for the solved Vessel Speed  #\n",
    "    ###############################################################################################################\n",
    "    vessel_supply_BAU_optimum[:,firm_id],q_BAU_optimum[:,firm_id], \\\n",
    "    rev_BAU_optimum[:,firm_id],F_BAU_optimum[:,firm_id],C_BAU_optimum[:,firm_id],E_car_BAU_optimum[:,firm_id], \\\n",
    "    E_sulfur_BAU_optimum[:,firm_id],payoff_BAU_optimum[:,firm_id],NPV_payoff_BAU_optimum[0,firm_id] = dis_Results(BAU_vessel_speed_optimum[:,firm_id],q)\n",
    "      \n",
    "    #print(\"fuelconsum\",F_BAU_optimum)\n",
    "    #print(BAU)\n",
    "    #print('The total payoff of the coalition : ',- BAU.fun) #-total_payoff_BAU\n",
    "    #print('Vessel speed for firm', firm_id  ,'is', BAU.x) # BAU_speed\n",
    "    print('--------Next firm now')"
   ]
  },
  {
   "cell_type": "markdown",
   "metadata": {},
   "source": [
    "# BAU: The benchmark : Plotting and Analysis"
   ]
  },
  {
   "cell_type": "markdown",
   "metadata": {},
   "source": [
    "## 1. Market and firm level Demand"
   ]
  },
  {
   "cell_type": "code",
   "execution_count": 28,
   "metadata": {},
   "outputs": [
    {
     "data": {
      "image/png": "[encoded data removed]",
      "text/plain": [
       "<Figure size 720x432 with 2 Axes>"
      ]
     },
     "metadata": {},
     "output_type": "display_data"
    }
   ],
   "source": [
    "#Create combo chart\n",
    "fig, ax1 = plt.subplots(figsize=(10,6))\n",
    "color = 'tab:green'\n",
    "\n",
    "##############################################################\n",
    "#   Firm Demand\n",
    "#############################################################\n",
    "#======> convert array to pandas dataframe\n",
    "firm_demand_df = pd.DataFrame()\n",
    "firm_demand_df['year'] = year.tolist()\n",
    "for i in range (n_firm):\n",
    "    firm_demand_df[\"firm\", i+1] = market_demand_per_firm[:,i].tolist()\n",
    "\n",
    "#======> Plotting the firm level demand\n",
    "ax1.set_title('Transported quantity and demand per firm', fontsize=16)\n",
    "ax1.set_xlabel('year', fontsize=16)\n",
    "ax1.set_ylabel('Transport demand', fontsize=16)\n",
    "ax1 = sns.lineplot('year', 'firm demand', hue='firm', data=pd.melt(firm_demand_df, 'year', var_name='firm',value_name='firm demand'),palette='summer')\n",
    "ax1.tick_params(axis='y')    \n",
    "\n",
    "\n",
    "##############################################################\n",
    "#   Firm Tranported Qty\n",
    "#############################################################\n",
    "#======> convert array to pandas dataframe\n",
    "q_BAU_optimum_df = pd.DataFrame()\n",
    "q_BAU_optimum_df['year'] = year.tolist()\n",
    "for i in range (n_firm):\n",
    "    q_BAU_optimum_df[\"firm\", i+1] = q_BAU_optimum[:,i].tolist()\n",
    "\n",
    "#specify we want to share the same x-axis\n",
    "ax2 = ax1.twinx()\n",
    "color = 'tab:red'\n",
    "#======> Plotting the firm level vessel supply\n",
    "ax2.set_ylabel('Transported Qty per firm', fontsize=16)\n",
    "ax2 = sns.lineplot('year', 'transported quantity', hue='firm', data=pd.melt(q_BAU_optimum_df, 'year', var_name='firm',value_name='transported quantity'), color = color)\n",
    "ax2.tick_params(axis='y', color=color)\n",
    "#show plot\n",
    "plt.show()\n"
   ]
  },
  {
   "cell_type": "markdown",
   "metadata": {},
   "source": [
    "## 1. Vessel Speed"
   ]
  },
  {
   "cell_type": "code",
   "execution_count": 29,
   "metadata": {},
   "outputs": [
    {
     "data": {
      "image/png": "[encoded data removed]",
      "text/plain": [
       "<Figure size 432x288 with 1 Axes>"
      ]
     },
     "metadata": {},
     "output_type": "display_data"
    }
   ],
   "source": [
    "##############################################################\n",
    "#   Plotting Optimum Vessel Speed  \n",
    "############################################################# \n",
    "#======> convert array to pandas dataframe\n",
    "optimum_speed_vessel_df = pd.DataFrame()\n",
    "optimum_speed_vessel_df['year'] = year.tolist()\n",
    "for i in range (n_firm):\n",
    "    optimum_speed_vessel_df[\"firm\", i+1] = BAU_vessel_speed_optimum[:,i].tolist()\n",
    "    \n",
    "#======> Plotting the firm level demand\n",
    "sns.lineplot('year', 'vessel speed', hue='firm', data=pd.melt(optimum_speed_vessel_df, 'year', var_name='firm',value_name='vessel speed'))\n",
    "plt.title(\"Optimum Vessel Speed \" )\n",
    "plt.show()\n",
    "#BAU_vessel_speed_optimum\n",
    "#timum_speed_vessel_df"
   ]
  },
  {
   "cell_type": "markdown",
   "metadata": {},
   "source": [
    "## 2.Vessel Supply"
   ]
  },
  {
   "cell_type": "code",
   "execution_count": 30,
   "metadata": {},
   "outputs": [
    {
     "data": {
      "image/png": "[encoded data removed]",
      "text/plain": [
       "<Figure size 720x432 with 1 Axes>"
      ]
     },
     "metadata": {},
     "output_type": "display_data"
    }
   ],
   "source": [
    "#Create combo chart\n",
    "fig, ax1 = plt.subplots(figsize=(10,6))\n",
    "color = 'tab:green'\n",
    "\n",
    "##############################################################\n",
    "#   Vessel supply\n",
    "#############################################################\n",
    "#======> convert array to pandas dataframe\n",
    "vessel_supply_BAU_optimum_df = pd.DataFrame()\n",
    "vessel_supply_BAU_optimum_df['year'] = year.tolist()\n",
    "for i in range (n_firm):\n",
    "    vessel_supply_BAU_optimum_df[\"firm\", i+1] = vessel_supply_BAU_optimum[:,i].tolist()\n",
    "\n",
    "#======> Plotting the firm level supply\n",
    "ax1.set_title('Vessel supply per firm', fontsize=16)\n",
    "ax1.set_xlabel('year', fontsize=16)\n",
    "ax1.set_ylabel('vessel supply', fontsize=16)\n",
    "ax1 = sns.lineplot('year', 'vessel supply', hue='firm', data=pd.melt(vessel_supply_BAU_optimum_df, 'year', var_name='firm',value_name='vessel supply'),palette='summer')\n",
    "ax1.tick_params(axis='y')    \n"
   ]
  },
  {
   "cell_type": "markdown",
   "metadata": {},
   "source": [
    "## 2. Fuel Consumption "
   ]
  },
  {
   "cell_type": "code",
   "execution_count": 31,
   "metadata": {
    "scrolled": true
   },
   "outputs": [
    {
     "data": {
      "image/png": "[encoded data removed]",
      "text/plain": [
       "<Figure size 432x288 with 1 Axes>"
      ]
     },
     "metadata": {},
     "output_type": "display_data"
    }
   ],
   "source": [
    "##############################################################\n",
    "#   Plotting firm level BAU Fuel Consumption \n",
    "#############################################################\n",
    "#======> convert array to pandas dataframe\n",
    "F_BAU_optimum_df = pd.DataFrame()\n",
    "F_BAU_optimum_df['year'] = year.tolist()\n",
    "for i in range (n_firm):\n",
    "    F_BAU_optimum_df[\"firm\", i+1] = F_BAU_optimum[:,i].tolist()\n",
    "    \n",
    "#=======> Displaying Results in a table :\n",
    "#display(F_BAU_optimum_df)\n",
    "\n",
    "#======> Plotting Emmission path\n",
    "sns.lineplot('year', 'Fuel Consumption path', hue='firm', data=pd.melt(F_BAU_optimum_df, 'year', var_name='firm',value_name='Fuel Consumption path'))\n",
    "plt.title(\"Fuel Consumption Path \" )\n",
    "plt.show()"
   ]
  },
  {
   "cell_type": "markdown",
   "metadata": {},
   "source": [
    "# 3.Firm BAU emmission path"
   ]
  },
  {
   "cell_type": "markdown",
   "metadata": {},
   "source": [
    "### Sulfur Emissions "
   ]
  },
  {
   "cell_type": "code",
   "execution_count": 32,
   "metadata": {},
   "outputs": [
    {
     "data": {
      "image/png": "[encoded data removed]",
      "text/plain": [
       "<Figure size 432x288 with 1 Axes>"
      ]
     },
     "metadata": {},
     "output_type": "display_data"
    }
   ],
   "source": [
    "##############################################################\n",
    "#   Plotting Sulfur Emission Paths\n",
    "############################################################# \n",
    "#======> convert array to pandas dataframe\n",
    "E_sulfur_BAU_optimum_df = pd.DataFrame()\n",
    "E_sulfur_BAU_optimum_df['year'] = year.tolist()\n",
    "for i in range (n_firm):\n",
    "    E_sulfur_BAU_optimum_df[\"firm\", i+1] = E_sulfur_BAU_optimum[:,i].tolist()\n",
    "    \n",
    "#=======> Displaying Results in a table :\n",
    "#display(E_sulfur_BAU_optimum_df)\n",
    "\n",
    "#======> Plotting Emmission path\n",
    "sns.lineplot('year', 'sulfur emission path', hue='firm', data=pd.melt(E_sulfur_BAU_optimum_df, 'year', var_name='firm',value_name='sulfur emission path'))\n",
    "plt.title(\"Sulfur Emission Path \" )\n",
    "plt.show()\n"
   ]
  },
  {
   "cell_type": "markdown",
   "metadata": {},
   "source": [
    "### CO2 Emissions \n",
    "\n"
   ]
  },
  {
   "cell_type": "code",
   "execution_count": 33,
   "metadata": {
    "scrolled": true
   },
   "outputs": [
    {
     "data": {
      "image/png": "[encoded data removed]",
      "text/plain": [
       "<Figure size 432x288 with 1 Axes>"
      ]
     },
     "metadata": {},
     "output_type": "display_data"
    }
   ],
   "source": [
    "##############################################################\n",
    "#   Plotting Co2 Emission Paths\n",
    "############################################################# \n",
    "#======> convert array to pandas dataframe\n",
    "E_car_BAU_optimum_df = pd.DataFrame()\n",
    "E_car_BAU_optimum_df['year'] = year.tolist()\n",
    "for i in range (n_firm):\n",
    "    E_car_BAU_optimum_df[\"firm\", i+1] = E_car_BAU_optimum[:,i].tolist()\n",
    "    \n",
    "#=======> Displaying Results in a table :\n",
    "#display(E_car_BAU_optimum_df)\n",
    "\n",
    "#======> Plotting Emmission path\n",
    "sns.lineplot('year', 'carbon emission path', hue='firm', data=pd.melt(E_car_BAU_optimum_df, 'year', var_name='firm',value_name='carbon emission path'))\n",
    "plt.title(\"carbon Emission Path \" )\n",
    "plt.show()"
   ]
  },
  {
   "cell_type": "markdown",
   "metadata": {},
   "source": [
    "## 6. Profits"
   ]
  },
  {
   "cell_type": "code",
   "execution_count": 34,
   "metadata": {},
   "outputs": [
    {
     "data": {
      "image/png": "[encoded data removed]",
      "text/plain": [
       "<Figure size 432x288 with 1 Axes>"
      ]
     },
     "metadata": {},
     "output_type": "display_data"
    }
   ],
   "source": [
    "##############################################################\n",
    "#   Plotting  firm payoffs\n",
    "############################################################# \n",
    "#======> convert array to pandas dataframe\n",
    "payoff_BAU_optimum_df = pd.DataFrame()\n",
    "payoff_BAU_optimum_df['year'] = year.tolist()\n",
    "for i in range (n_firm):\n",
    "    payoff_BAU_optimum_df[\"firm\", i+1] = payoff_BAU_optimum[:,i].tolist()\n",
    "    \n",
    "#=======> Displaying Results in a table :\n",
    "#display(E_car_BAU_optimum_df)\n",
    "\n",
    "#======> Plotting Emmission path\n",
    "sns.lineplot('year', 'payoff', hue='firm', data=pd.melt(payoff_BAU_optimum_df, 'year', var_name='firm',value_name='payoff'))\n",
    "plt.title(\"payoff \" )\n",
    "plt.show()\n"
   ]
  },
  {
   "cell_type": "markdown",
   "metadata": {},
   "source": [
    "# Coalition & Abatement Anlysis "
   ]
  },
  {
   "cell_type": "markdown",
   "metadata": {},
   "source": [
    "# 1. Structures"
   ]
  },
  {
   "cell_type": "code",
   "execution_count": 35,
   "metadata": {},
   "outputs": [
    {
     "data": {
      "text/plain": [
       "array([[0, 0],\n",
       "       [0, 1],\n",
       "       [1, 0],\n",
       "       [1, 1]])"
      ]
     },
     "execution_count": 35,
     "metadata": {},
     "output_type": "execute_result"
    }
   ],
   "source": [
    "#############################################################\n",
    "#    I. Generate Coalition Structure vector            #\n",
    "#############################################################\n",
    "#\"Singerons are denoted by '0' while signatories are denoted by '1'\"\n",
    "coalition_stru =np.asarray([list(i) for i in itertools.product([0, 1], repeat=n_firm)])\n",
    "All_singelton = coalition_stru[0]\n",
    "Grand_coalition  = coalition_stru[-1]\n",
    "coalition_stru\n",
    "#coalition_stru[3]"
   ]
  },
  {
   "cell_type": "markdown",
   "metadata": {},
   "source": [
    "# 2.Coaltion and Singleton"
   ]
  },
  {
   "cell_type": "code",
   "execution_count": 36,
   "metadata": {},
   "outputs": [
    {
     "ename": "NameError",
     "evalue": "name 'optimisation_coalition' is not defined",
     "output_type": "error",
     "traceback": [
      "\u001b[1;31m---------------------------------------------------------------------------\u001b[0m",
      "\u001b[1;31mNameError\u001b[0m                                 Traceback (most recent call last)",
      "\u001b[1;32m<ipython-input-36-e99ba693ebd1>\u001b[0m in \u001b[0;36m<module>\u001b[1;34m\u001b[0m\n\u001b[0;32m      7\u001b[0m     \u001b[0msignatory\u001b[0m \u001b[1;33m=\u001b[0m \u001b[0mnp\u001b[0m\u001b[1;33m.\u001b[0m\u001b[0mwhere\u001b[0m\u001b[1;33m(\u001b[0m\u001b[0mcoalition_stru\u001b[0m\u001b[1;33m[\u001b[0m\u001b[0mcompteur\u001b[0m\u001b[1;33m]\u001b[0m \u001b[1;33m==\u001b[0m \u001b[1;36m1\u001b[0m\u001b[1;33m)\u001b[0m \u001b[1;31m# Resultat: signatory = [firm1, firm 2] ; signatory = []\u001b[0m\u001b[1;33m\u001b[0m\u001b[1;33m\u001b[0m\u001b[0m\n\u001b[0;32m      8\u001b[0m     \u001b[1;31m#''' 2. Run the optimisation problem for signartories to max the profit of the coalition '''\u001b[0m\u001b[1;33m\u001b[0m\u001b[1;33m\u001b[0m\u001b[1;33m\u001b[0m\u001b[0m\n\u001b[1;32m----> 9\u001b[1;33m     \u001b[0moptimisation_coalition\u001b[0m\u001b[1;33m(\u001b[0m\u001b[0msignatory\u001b[0m\u001b[1;33m)\u001b[0m \u001b[1;31m#function taking the firms in the signatory and gives results after solving for the optimum value\u001b[0m\u001b[1;33m\u001b[0m\u001b[1;33m\u001b[0m\u001b[0m\n\u001b[0m\u001b[0;32m     10\u001b[0m \u001b[1;33m\u001b[0m\u001b[0m\n\u001b[0;32m     11\u001b[0m     \u001b[1;31m#''' 3. Identify singleton firms '''\u001b[0m\u001b[1;33m\u001b[0m\u001b[1;33m\u001b[0m\u001b[1;33m\u001b[0m\u001b[0m\n",
      "\u001b[1;31mNameError\u001b[0m: name 'optimisation_coalition' is not defined"
     ]
    }
   ],
   "source": [
    "#################################################################################\n",
    "#    II. Run the simulation for each agent -No feedback loop of the pollution    #\n",
    "##################################################################################\n",
    "for compteur in range (len(coalition_stru)): \n",
    "    #print(coalition_stru[compteur])\n",
    "    #''' 1. Identify signatory firms '''\n",
    "    signatory = np.where(coalition_stru[compteur] == 1) # Resultat: signatory = [firm1, firm 2] ; signatory = []\n",
    "    #''' 2. Run the optimisation problem for signartories to max the profit of the coalition '''\n",
    "    optimisation_coalition(signatory) #function taking the firms in the signatory and gives results after solving for the optimum value\n",
    "    \n",
    "    #''' 3. Identify singleton firms '''\n",
    "    singleton = np.where(coalition_stru[compteur] == 0)\n",
    "    #4.''' Run the optimisation problem for singelton to max own profit '''\n",
    "    optimisation_coalition(singleton)"
   ]
  },
  {
   "cell_type": "markdown",
   "metadata": {},
   "source": [
    "# I.Business Case 1: No enforcement mechanism \n",
    "\n",
    "##### 1.Condition to become a signatory: \n",
    "By joining the coalition, each firm agrees to abate by the following constraint: \n",
    "$$E^{industry}_{SO_x} \\leq \\theta_{SO_x}$$\n",
    "$$E^{industry}_{CO_2} \\leq \\theta_{CO_2} $$\n",
    "\n",
    "- $ \\theta $ : the coalition emission threshhold for $SO_x$ and $CO_2$\n",
    "\n",
    "##### 2.Perks of joining the coalition: \n",
    "The coalition sets the freight rate and shares of market demand for signatorie ??\n",
    "***For each firm i:*** \n",
    "$$ max_{(V_{t,i},q_{t,i},s_{t,i},\\rho_t)} ~\\ \\pi_{i} =\\sum_{firms} \\sum_{t=1}^{T} (1+r_{t,i})^{-t} * [\\rho_t * q_{t,i} - TC_{t,i}(V_{t,i})) - C_{delayed}*(x_{t,i} - q_{t,i})] $$\n"
   ]
  },
  {
   "cell_type": "markdown",
   "metadata": {},
   "source": [
    "$ $"
   ]
  },
  {
   "cell_type": "code",
   "execution_count": null,
   "metadata": {},
   "outputs": [],
   "source": [
    "# #################################################################################\n",
    "# #  Main Code for Computing Vessel Speed assuming the coalition's payoff is impacted #\n",
    "# #    by signatories and vice versa through Pollution and Damage functions #\n",
    "# ##################################################################################\n",
    "# # '''The coalition's payoff '' \n",
    "# def payoff_coaltion(speed_coalition): \n",
    "#     '''insert rest of code for coalition optimisation problem'''\n",
    "#     return coalition_payoff\n",
    "\n",
    "\n",
    "# # ''' Singeton's payoff '' \n",
    "# def payoff_singeltons(speed_singelton): \n",
    "#     (tax_carbon,tax_sulfur) = Taxation_scheme(speed_coalition,speed_singeltons,q_coalition, q_singeltons)\n",
    "#     '''insert rest of code for singelton optimisation problem'''\n",
    "#     return singelton_payoff"
   ]
  },
  {
   "cell_type": "markdown",
   "metadata": {},
   "source": [
    "### II.Business Case 1: Imposing a tax"
   ]
  },
  {
   "cell_type": "markdown",
   "metadata": {},
   "source": [
    " <font color='red'>\n",
    "\n",
    "Assume the existence of a regulatory agent govering the market, with the objective of minimising the indutry's emmision level of sulfur and carbon \n",
    "\n",
    "Assume the profits from the taxation scheme of the regulatory body would go to finance R&D in maritime shipping   \n",
    "\n",
    "we assume that the tax for sulfur and caron is a function of the industry's emmision\n",
    " \n",
    "Need more research to specify g. This will allow for the non-cooperative game between the coalition and singelton "
   ]
  },
  {
   "cell_type": "markdown",
   "metadata": {},
   "source": [
    "### Taxation Scheme Model:\n",
    "$$ tax_{SO_x} = g(E^{industry}_{SO_x}) $$\n",
    "$$ tax_{CO_2} = g(E^{industry}_{CO_2}) $$\n",
    "\n",
    "Assumes a non copperative game between the coalition and the singeltons"
   ]
  },
  {
   "cell_type": "code",
   "execution_count": null,
   "metadata": {},
   "outputs": [],
   "source": [
    "''' Taxation Scheme '''\n",
    "def Taxation_scheme(speed_coalition,speed_singeltons,q_coalition, q_singeltons): \n",
    "    '''This function will be be incorporated into the objective funtion'''\n",
    "    # \"1.Compute the singleton’s total emission levels\"\n",
    "    # \"2.Compute the coalition total emission levels\"\n",
    "    # \"3.Compute the industry’s emission levels\"\n",
    "    # \"4.Compute sulfur and carbon tax  for the industry\n",
    "    return tax"
   ]
  },
  {
   "cell_type": "code",
   "execution_count": null,
   "metadata": {},
   "outputs": [],
   "source": [
    "# #################################################################################\n",
    "# #  Main Code for Computing Vessel Speed assuming the coalition's payoff is impacted #\n",
    "# #    by signatories and vice versa through Pollution and Damage functions #\n",
    "# ##################################################################################\n",
    "\n",
    "# # '''The coalition's payoff '' \n",
    "# def payoff_coaltion(speed_coalition): \n",
    "#     (tax_carbon,tax_sulfur) = Taxation_scheme(speed_coalition,speed_singeltons,q_coalition, q_singeltons)\n",
    "#     '''insert rest of code for coalition optimisation problem'''\n",
    "#     return coalition_payoff\n",
    "\n",
    "# # ''' Singeton's payoff '' \n",
    "# def payoff_singeltons(speed_singelton): \n",
    "#     (tax_carbon,tax_sulfur) = Taxation_scheme(speed_coalition,speed_singeltons,q_coalition, q_singeltons)\n",
    "#     '''insert rest of code for singelton optimisation problem'''\n",
    "#     return singelton_payoff\n",
    "\n",
    "# # '''Initilzation''' \n",
    "# speed_coalition_init = np.array([0])\n",
    "# speed_singelton_init = np.array([0])\n",
    "\n",
    "# speed_singelton = speed_singelton_init\n",
    "# speed_coalition = speed_coalition_init \n",
    "\n",
    "# q_coalition = q_coalition_init\n",
    "# q_singeltons = q_coalition_init\n",
    "\n",
    "\n",
    "# change_speed_coalition= 2\n",
    "# change_speed_singelton= 2\n",
    "\n",
    "# #'''Solving for the optimum speed given the other agents' reaction  ''' #Reaction Functions\n",
    "# #while abs(change_speed_coalition) > 0.001 or abs(change_speed_singelton) > 0.001  :\n",
    "# #     moo = speed_coalition\n",
    "# #     zoo = speed_singelton\n",
    "# #     res1 = minimize(payoff_coaltion, speed_coalition_init, method='nelder-mead')\n",
    "# #     speed_coalition =res1.x\n",
    "# #     #print (\"Coalition Speed is\", speed_coalition, \"The coalition's payoff is \",payoff_coaltion(speed_coalition) )\n",
    "# #     #print (\"singelton speed \", speed_singelton, \"Singelton's payoff is \",payoff_singeltons(speed_singelton))\n",
    "# #     #print ('######################################################################')\n",
    "# #     res2 =  minimize(payoff_singeltons, speed_singelton_init, method='nelder-mead')\n",
    "# #     speed_singelton = res2.x\n",
    "# #     #print (\"Coalition Speed is\", speed_coalition, \"The coalition's payoff is \",payoff_coaltion(speed_coalition) )\n",
    "# #     #print (\"singelton speed \", speed_singelton, \"Singelton's payoff is \",payoff_singeltons(speed_singelton))\n",
    "# #     #print ('######################################################################')\n",
    "# #     change_speed_coalition = speed_coalition - moo\n",
    "# #     change_speed_singelton= speed_singelton - zoo\n",
    "# #     #print ('change is ',change_speed_coalition)"
   ]
  },
  {
   "cell_type": "markdown",
   "metadata": {},
   "source": [
    "# Analysis: Who bared the cost of abatement: \n",
    "\n",
    "## 1. Marginal Abatement Costs\n",
    "\n",
    "$$ MAC^{CO_2}_{i} = \\frac{ \\sum_t \\pi_t^{No_{abatement}} -  \\pi_t^{abatement}}{CO_2^{BAU} - CO_2}  $$\n",
    "\n",
    "$$ MAC^{SO_x}_{i} = \\frac{ \\sum_t \\pi_t^{No_{abatement}} -  \\pi_t^{abatement}}{SO_x^{BAU} - SO_x}  $$\n",
    "\n",
    "\n",
    "\n",
    "## 2. Passthrough: who bares the cost\n",
    "the cost pass-through theory is useful, but the estimation of the\n",
    "allocation share requires a set of assumptions on the price elasticity of supply and demand.\n",
    "The price elasticity of supply and demand can be expressed as:\n",
    "$$ \\eta_s  = \\frac{\\% change ~\\ in ~\\ quantity ~\\ supplied}{\\% change ~\\ in ~\\ price}$$\n",
    "$$ \\eta_d  = \\frac{\\% change ~\\ in ~\\ quantity ~\\ demanded}{\\% change ~\\ in ~\\ price}$$\n",
    "\n",
    "\n",
    "the amount of tax that will be borne by the shipper and ship-owner or ship-operator at period t.\n",
    "\n",
    "\n",
    " the fraction of the levy costs borne by the consumer, $\\epsilon$ : \n",
    "$$ \\epsilon = \\frac{\\eta_s} {\\eta_d + \\eta_s} $$\n",
    "\n"
   ]
  },
  {
   "cell_type": "code",
   "execution_count": null,
   "metadata": {},
   "outputs": [],
   "source": []
  }
 ],
 "metadata": {
  "kernelspec": {
   "display_name": "Python 3",
   "language": "python",
   "name": "python3"
  },
  "language_info": {
   "codemirror_mode": {
    "name": "ipython",
    "version": 3
   },
   "file_extension": ".py",
   "mimetype": "text/x-python",
   "name": "python",
   "nbconvert_exporter": "python",
   "pygments_lexer": "ipython3",
   "version": "3.7.7"
  }
 },
 "nbformat": 4,
 "nbformat_minor": 4
}
