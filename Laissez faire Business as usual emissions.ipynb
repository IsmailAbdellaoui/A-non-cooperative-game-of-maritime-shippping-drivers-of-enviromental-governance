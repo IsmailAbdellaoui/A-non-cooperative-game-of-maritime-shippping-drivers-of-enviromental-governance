{
 "cells": [
  {
   "cell_type": "code",
   "execution_count": null,
   "metadata": {},
   "outputs": [],
   "source": [
    "import numpy as np # importing numpy for matrix operations \n",
    "from scipy import *\n",
    "from scipy.optimize import minimize\n",
    "import pandas as pd\n",
    "import matplotlib.pyplot as plt\n",
    "import seaborn as sns\n",
    "from IPython import display \n",
    "import itertools\n",
    "from IPython.display import display\n",
    "import random, operator "
   ]
  },
  {
   "cell_type": "markdown",
   "metadata": {},
   "source": [
    "# Simulation & The Economic Model Framework\n"
   ]
  },
  {
   "cell_type": "markdown",
   "metadata": {},
   "source": [
    "### - market: containership market\n",
    "\n",
    "\n",
    "### - Route : .... ??\n",
    "\n",
    "\n",
    "### - Candidate Firms: \n",
    "1. APM-Maersk\n",
    "2. MSC – Mediterranean Shipping Company\n",
    "3. COSCO – China Ocean Shipping Company\n",
    "4. CMA-CGM\n",
    "5. Hapag-Lloyd\n",
    "6. ONE  – Ocean Network Express\n",
    "7. Evergreen Line\n",
    "8. Hyundai Merchant Marine\n",
    "9. Yang Ming Marine Transport\n",
    "10. Zim Integrated Shipping Services Ltd"
   ]
  },
  {
   "cell_type": "markdown",
   "metadata": {},
   "source": [
    "# I.Introduction"
   ]
  },
  {
   "cell_type": "markdown",
   "metadata": {},
   "source": [
    "## 1. Market Demand"
   ]
  },
  {
   "cell_type": "markdown",
   "metadata": {},
   "source": [
    "* The market is faced with the following demand function:  Source: (Parry et al., 2018)\n",
    "$$ Y_t  = (\\frac{GDP_t}{GDP_0})^v * (\\frac{\\rho_t}{\\rho_0})^η * Y_0  $$"
   ]
  },
  {
   "cell_type": "markdown",
   "metadata": {},
   "source": [
    "Assuming that container shipping demand in the BAU increases over time with growth in GDP, according to the income elasticity for transport, and changes in frieght prices. \n",
    "\n",
    "Future containership demand varies positively with GDP (through income elasticities) and negatively with freight rates. \n",
    "\n",
    "* $v=0.8 %$ : Constant income elasticity of demand for container shipping,ie % increases in demand for shipped products per 1% percent increase in GDP, Container Shipping demand increases with gross domestic product (𝐺𝐷𝑃𝑡 ) according to 𝜐\n",
    "\n",
    "* $η= -0.7 %$:   is the (constant) own-price elasticity of demand,  the percent change in transport work per one percent increase in freight rate  at time t expressed in (USD/transport work). Demand for transport work varies inversely with proportionate changes in shipping costs"
   ]
  },
  {
   "cell_type": "markdown",
   "metadata": {},
   "source": [
    "#### - Relationship between GDP ratio & projected growth rate\n",
    "$$ \\frac{GDP_t}{GDP_0} = (1+\\frac{G_1}{100})*...*(1+\\frac{G_t}{100}) = \\prod_{dex=1}^{t} (1+g_{dex}) $$"
   ]
  },
  {
   "cell_type": "markdown",
   "metadata": {},
   "source": [
    "## 2. Quota Shares Allocation and Firm Level demand"
   ]
  },
  {
   "cell_type": "markdown",
   "metadata": {},
   "source": [
    "#### A pure prorationing model :  Source (J. Gault et al. / Journal of Energy Finance and Development 4 (1999) \n",
    "\n",
    "This specification allocates quotas according to a rule of proportionality, based on each firm's transport capacity:\n",
    "\n",
    "$$ s_{t,i} = \\frac{n_{i} * k_{i}} {\\sum_{i} n_{i} * k_{i}} $$\n",
    "$$ x_{t,i} = s_{t,i} Y_{t}  $$"
   ]
  },
  {
   "cell_type": "markdown",
   "metadata": {},
   "source": [
    "## 3. Fuel Consumption and Vessel Speed"
   ]
  },
  {
   "cell_type": "markdown",
   "metadata": {},
   "source": [
    "***Average fuel consumption of the Main Engine per vessel: $F_{t,i}^M$  Source: Corbett et al. (2009), Doudnikoff and Lacoste (2014)***\n",
    "\n",
    "The main engine per-trip fuel consumption per day at sea (ton/day) follows the so called cubic law of design speed and operational speed: \n",
    "$ F_0^M * (\\frac{V_s}{V_0})^3 $\n",
    "\n",
    "$$F_0^M(t/day)= SFOC_0^M(g∕kWh)* 10^{-6}(t⁄g)*EL^M(\\%)*PS^M(KW)*24(h⁄day) $$\n",
    "\n",
    "The average bunker fuel consumption for the main engine per vessel is equal its working time at sea in a year t in (day) multiplied by the main engine fuel consumption per day at sea (ton/day): \n",
    "\t\n",
    "   $$ F_{t,i}^M =F_0^M * (\\frac{V_s}{V_0})^3 * \\frac{\\tau}{24} $$\n",
    "   $$ F_{t,i}^M = (SFOC_0^M * 10^{-6}*EL^M*PS^M*24) * (\\frac{V_s}{V_0})^3 * \\frac{\\tau}{24} $$\n",
    "     \n",
    "\n",
    "***Conlusion:***\n",
    "- $ F_{t,i}^M = (SFOC_0^M * 10^{-6}*EL^M*PS^M) * (\\frac{V_s}{V_0})^3 * \\tau  $"
   ]
  },
  {
   "cell_type": "markdown",
   "metadata": {},
   "source": [
    "***Average fuel consumption of the Auxiliary Engine per vessel:$F_{t,i}^A$ Source: Corbett et al. (2009), Doudnikoff and Lacoste (2014)*** \n",
    "\n",
    "The auxiliary engine supplies the auxiliary power needed for producing electricity on board, Therfore, it has no effect when estimating fuel reductions due to slow steaming.\n",
    " \n",
    "Auxiliary engine(s) **daily** fuel consumption:\n",
    "$$ F_{i}^{0,A}(t/day)= SFOC_0^A(g∕kWh)*10^{-6}(t⁄g)*EL_{i}^A(\\%)*PS^A(KW)*24(h⁄day)$$\n",
    "\n",
    "The **average** bunker fuel consumption for the auxiliary engine for **1 vessel**: \n",
    "    \n",
    "$$F_{t,i}^A= \\frac{F_{i}^{0,A}}{24}* \\tau$$\n",
    "\n",
    "***Conlusion:***\n",
    "\n",
    "- $F_{t,i}^A= SFOC_0^A*10^{-6}*EL_{i}^A*PS^A * \\tau$"
   ]
  },
  {
   "cell_type": "markdown",
   "metadata": {},
   "source": [
    "Therfore, fuel consumption is as follow: \n",
    "$$ F_{t,i} = F_{t,i}^A +F_{t,i}^M =( F_0^M * (\\frac{V_s}{V_0})^3 * \\frac{\\tau}{24}) +(SFOC_0^A*10^{-6}*EL_{i}^A*PS^A * \\tau)  $$ "
   ]
  },
  {
   "cell_type": "markdown",
   "metadata": {},
   "source": [
    "## 3. profit maximisation with output and vessel speed as DV in the absence of a cartel"
   ]
  },
  {
   "cell_type": "markdown",
   "metadata": {},
   "source": [
    "***Decision Variable***: \n",
    "\n",
    "***Input Parameters***"
   ]
  },
  {
   "cell_type": "markdown",
   "metadata": {},
   "source": [
    "## Model :\n",
    "Assume freight rates are exogenous in the 1st problem \n",
    "\n",
    "***For each firm i:*** \n",
    "$$ max_{(V_{t,i},q_{t,i})} ~\\ \\pi_{i} = \\sum_{t=1}^{T} (1+r_{t,i})^{-t} * [\\rho_t * q_{t,i} - TC_{t,i}(V_{t,i})) - C_{delayed}*(x_{t,i} - q_{t,i})] $$\n",
    "\n",
    "\n",
    "\n",
    "***s.t.:*** \n",
    "   - $ q_{t,i} \\leq x_{t,i} $: ***transported cargo***\n",
    "   - $ V_{min} \\leq V_{t,i} \\leq  V_{max} $: ***vessel speed constraint***\n",
    "   \n",
    "   \n",
    "   - $ x_{i,t}  = s_{i} Y_{t} +  (x_{i,t-1} - q_{t-1,i}) $: ***Allow carry over demand from previous period with penality***\n",
    "\n",
    "\n",
    "   - $ t_{sea}= \\frac{d} {V_i} $ : ***time spent in sea in hours***\n",
    "   - $ time= t_{sea} + t_{port} $: ***time spend in sea in hours by 1 representative vessel from firm i in period t*** \n",
    "   - $ \\frac {\\tau}{time} -1 < n_{trip} \\leq \\frac {\\tau}{time}$:  ***number of trips supplied by 1 vessel in a year t by firm i (floor function)***\n",
    "   - $ max_{car} = n_{trip} * k $:  ***max cargo carried by one vessel***   \n",
    "   - $ \\frac{q_{t,i}}{max_{car}} \\leq vessel_{supply} < 1+ \\frac{q_{t,i}}{max_{car}} $: ***number of vessels required to satisfy output q (ceiling function*** \n",
    "   - $ vessel^{supply} \\leq n $: ***vessel supply constraint***  \n",
    "\n",
    "\n",
    "   \n",
    "  \n",
    "   - $ F_{t,i} = F_{t,i}^A +F_{t,i}^M =( F_0^M * (\\frac{V_s}{V_0})^3 * \\frac{\\tau}{24}) +(SFOC_0^A*10^{-6}*EL_{i}^A*PS^A * \\tau)  $: ***fuel consumption***\n",
    "   - $ TC_{t,i} =  (p_t^{fuel} *  F_{t,i} + C^{fixed}_{t,i}  ) × vessel^{supply}_{t,i} $\n",
    "   \n",
    "   \n",
    "   \n",
    "   - $ n_{trip} \\in N $\n",
    "   - $ vessel_{supply} \\in N $\n",
    " \n",
    "   - $ q_{t,i} \\geq 0 $\n"
   ]
  },
  {
   "cell_type": "markdown",
   "metadata": {},
   "source": [
    "# II.Summarizing The model "
   ]
  },
  {
   "cell_type": "markdown",
   "metadata": {},
   "source": [
    "-  $β_{i,t}$  is a coefficients for the ratio of the freight rates with respect the current market price.  \n",
    "\n",
    "- $ φ_i $: A ship’s energy efficiency\n",
    "\n",
    "\n",
    "* $β_t= \\frac{ρ_t}{ρ_0}$  \n",
    "* $ ψ_{i,t}= \\frac{n_i * k_i}{\\sum{n_i * k_i}} (\\frac{GDP_t}{GDP_0})^v Y_0 $ \n",
    "* $ F_M (t/hour)= SFOC_0^M (g∕kWh) × 10^{-6} (t⁄g) × EL^M (\\%)× PS^M (KW) $\n",
    "* $ F_A (t/hour)=SFOC^A EL^A PS^A 10^{-6}$\n",
    "* $ φ_i = F_M (\\frac{1}{V_i^s})^3$\n",
    "\n",
    "Therefore: \n",
    "$$ x_{i,t} =s_{i,t} * Y_t =  \\frac{n_i * k_i}{\\sum{n_i * k_i}} (\\frac{GDP_t}{GDP_0})^v Y_0 (\\frac{ρ_t}{ρ_0})^η= ψ_{i,t} ~\\ β_{i,t}^η $$   "
   ]
  },
  {
   "cell_type": "markdown",
   "metadata": {},
   "source": [
    " ***For each firm i:*** \n",
    "$$ max_{(V_{i,t},N_{i,t}^{vessel})} ~\\ \\pi_{i} = \\sum_{t=1}^{T} (1+r_{t,i})^{-t} * \n",
    "[ ψ_{i,t} ρ_0  β_t^{η+1} - \\frac{ψ_{i,t}}{k_i} β_t^η  (p_t^{fuel}  φ_i d V_{i,t}^2 + p_t^{MGO} F_A  \\frac{d}{V_{i,t}}) - (C_{t,i}^{operating}N_{i,t}^{vessel}] $$\n",
    "\n",
    "***s.t.: Firm level Supply*** \n",
    " * $\\frac{ψ_{i,t}}{k_t τ} (t_p + \\frac{d}{V_{i,t}}) β_t^η  \\leq  N_{i,t}^{vessel} \\leq  n_i $  \n",
    " * $ N_{i,t}^{vessel}  ∈ Z^+  $\n",
    " * $ V_i^{min} \\leq V_{t,i} \\leq V_i^{max} $\n"
   ]
  },
  {
   "cell_type": "code",
   "execution_count": null,
   "metadata": {},
   "outputs": [],
   "source": [
    "# #############################################################\n",
    "#         Equation(1): market Demand # Y[t] \n",
    "#############################################################\n",
    "    #\"Compute market level demand based on GDP projections \" \n",
    "def market_demand(demand_income_elasticity, demand_price_elasticity,freight_rate,initial_reight_rate):\n",
    "    #---------> 1.Import real GDP growth data & compute GDP ratio : Source IMF@2020 #\n",
    "    G_df = pd.read_csv('./data/real_growth_rate.csv') #import IMF data\n",
    "    #-------> 2.Construct GDP projection path 2016-2050 based on projection growth data \n",
    "    gdp_growth= G_df.values[:,1:] \n",
    "    g =1 +(gdp_growth/100)  \n",
    "    gdp = np.array([100.00 for j in range(T)])\n",
    "    for foo in range (1,T):\n",
    "        gdp[foo] = g[:,foo]* gdp[foo-1]\n",
    "    #print(gdp)\n",
    "    #--------->  \"compute GDP ratio based on IMF@2020\"\n",
    "    gdp_ratio = np.array([1.00 for j in range(T)])\n",
    "    for moo in range (1,T):\n",
    "        sub_g = g[:,0:moo+1]\n",
    "        #print(sub_g)\n",
    "        gdp_ratio[moo] = np.prod(sub_g)\n",
    "        \n",
    "    #--------->  \"compute freight rate ratio\"\n",
    "    freight_rate_ratio_multiplied =np.power(np.divide(freight_rate,initial_reight_rate),demand_price_elasticity)\n",
    "    #print(freight_rate_ratio_multiplied)\n",
    "    #---------> \"Project Transport Demand (industry demand)\"\n",
    "    loo =np.multiply(np.power(gdp_ratio,demand_income_elasticity),freight_rate_ratio_multiplied) #Will need to be updated in case fuel prices are varied over time  \n",
    "    Y = np.multiply(loo,y_16_20[0])\n",
    "    #print(Y) # size = 1 dimesion array with size T=35 years\n",
    "    return Y, gdp"
   ]
  },
  {
   "cell_type": "code",
   "execution_count": null,
   "metadata": {},
   "outputs": [],
   "source": [
    "###############################################################\n",
    "#  Compare model projections for 2016-2020 to actual data  #\n",
    "###############################################################\n",
    "#'this is a placeholder for when we select a route'"
   ]
  },
  {
   "cell_type": "code",
   "execution_count": null,
   "metadata": {},
   "outputs": [],
   "source": [
    "# #############################################################\n",
    "#         Equation(1): market share allocation\n",
    "#############################################################\n",
    "def allocation(n,k,n_firm):\n",
    "    transport_capacity = np.multiply(n ,k )\n",
    "    total_transport_capacity = np.tile(((np.sum(np.multiply(n,k), axis=1)).reshape(T, 1)),(1,n_firm))\n",
    "    s = np.divide(transport_capacity, total_transport_capacity)\n",
    "    return s"
   ]
  },
  {
   "cell_type": "code",
   "execution_count": null,
   "metadata": {},
   "outputs": [],
   "source": [
    "# #############################################################\n",
    "#         Equation(5): Firm level Demand # [t][i]\n",
    "#############################################################\n",
    "# Compute firm level demand based on its market share #\n",
    "def firm_quota(s):\n",
    "    computed_demand_per_firm = np.multiply(s,Y.reshape(T,1)) #demand matrix; size=[years,firms] #TEU\n",
    "    return computed_demand_per_firm\n",
    "#firm_demand(s)"
   ]
  },
  {
   "cell_type": "code",
   "execution_count": null,
   "metadata": {},
   "outputs": [],
   "source": [
    "# #############################################################\n",
    "#         Equation(5):  Supply             # R[t][i]\n",
    "############################################################# \n",
    "def supply(BAU_speed,x,t_port,k,n,firm_id,q):    \n",
    "    #------->1).Compute # of trips supplied by 1 vessel in one year #\n",
    "    t_sea=np.true_divide(d,BAU_speed) #time spent in sea in hours \n",
    "    time= t_sea + t_port #time spend in sea in hours by 1 representative vessel from firm i in period t  \n",
    "    #print(time)\n",
    "    \n",
    "    n_trip = np.floor(np.true_divide(tau,time)) #number of trips supplied by 1 vessel in a year t by firm i# The floor of the scalar x is the largest integer i, such that i <= x.\n",
    "    #print('number of trips',n_trip)\n",
    "    \n",
    "    #------->2).Compute firm level Supply of ships given the fleet structurex #\n",
    "    max_car = np.multiply(n_trip,k[firm_id])\n",
    "    #print('max capa', max_car)\n",
    "        \n",
    "    #------->3).Compute # of vessels required to satisfy deamnd given vessel capacity #\n",
    "    vessel_supply = np.ceil(np.divide(q,max_car)) #number of vessels required to satisfy demand n^* , smallest integer i, such that n^*>=ratio\n",
    "    ##----->4).Compute # of vessels allocated by the firm  #\n",
    "    #vessel_supplied= np.minimum(vessel_supply,n[:,firm_id]) # firm level supply in period t\n",
    "    return vessel_supply"
   ]
  },
  {
   "cell_type": "code",
   "execution_count": null,
   "metadata": {},
   "outputs": [],
   "source": [
    "#supply(BAU_vessel_speed_optimum[:,firm_id],x,t_port,k,n,firm_id)"
   ]
  },
  {
   "cell_type": "markdown",
   "metadata": {},
   "source": [
    "## 4. Transported Quantity:"
   ]
  },
  {
   "cell_type": "code",
   "execution_count": null,
   "metadata": {},
   "outputs": [],
   "source": [
    "# #############################################################\n",
    "#         Equation(6):  Transported Quantity           # R[t][i]\n",
    "#############################################################\n",
    "# #Assumption no carry over demand\n",
    "#  #Compute Transported quantity by firm i in period t #\n",
    "# def transport_Q(n,k,vessel_supply,x,firm_id):\n",
    "#     zoo= np.multiply(n[:,firm_id],k[firm_id])\n",
    "#     q = (np.less_equal(vessel_supply, n[:,firm_id])).astype(int) # if (n^* < n, 1, else 0)\n",
    "#     q = np.where(q == 0, zoo, q) # if (supply> n, n*k )  #if satisfied \n",
    "#     q = np.where(q == 1, x, q) # if (n^* <= n, x)\n",
    "#     return q #satisfied Demand"
   ]
  },
  {
   "cell_type": "markdown",
   "metadata": {},
   "source": [
    "# 5. Firm's Total Cost: "
   ]
  },
  {
   "cell_type": "code",
   "execution_count": null,
   "metadata": {},
   "outputs": [],
   "source": [
    "# #############################################################\n",
    "#         Equation(5):   Fuel Consumption          # TC[t][i]\n",
    "#############################################################\n",
    "#Place Holder idea; I might turn SFOC intoo a decision variable , \n",
    "def fuel_cons(V_s,BAU_speed,SFOC_m,SFOC_a,EL_m,EL_a,PS_m,PS_a,firm_id,vessel_supply):\n",
    "    moo=np.power(np.divide(BAU_speed,np.tile(V_s[firm_id],T)),3) \n",
    "    F_m = SFOC_m * (10**(-6)) * EL_m * PS_m[firm_id] * tau * moo # vector size = [T, #of firms], cst throughtou\n",
    "    #print(F_m)\n",
    "    F_a = SFOC_a * (10**(-6)) * EL_a * PS_a[firm_id] * tau # vector size = [1, #of firms]  \n",
    "    fuel_per_vessel =np.tile(F_a,T) + F_m #vector size =[t,n]\n",
    "    fuel = np.multiply(fuel_per_vessel,vessel_supply)\n",
    "    return fuel"
   ]
  },
  {
   "cell_type": "code",
   "execution_count": null,
   "metadata": {},
   "outputs": [],
   "source": [
    "#fuel_cons(V_s,BAU_vessel_speed_optimum[:,1],SFOC_m,SFOC_a,EL_m,EL_a,PS_m,PS_a,1,vessel_supplied_BAU_optimum[:,1])"
   ]
  },
  {
   "cell_type": "code",
   "execution_count": null,
   "metadata": {},
   "outputs": [],
   "source": [
    "# #############################################################\n",
    "#         Equation(6):   Total Cost             # TC[t][i]\n",
    "#############################################################\n",
    "def cost(fuel_consumed,vessel_supply,C_fix,fuel_choice,firm_id):\n",
    "    fixed_cost =  C_fix[firm_id]  * vessel_supply #Fixed Cost\n",
    "    fuel_cost =  fuel_data[(fuel_choice[firm_id])]['price'] * fuel_consumed #Fuel Cosnumption Cost\n",
    "    TC = fuel_cost + fixed_cost\n",
    "    return TC"
   ]
  },
  {
   "cell_type": "code",
   "execution_count": null,
   "metadata": {},
   "outputs": [],
   "source": [
    "# #############################################################\n",
    "#         Equation(6):   Emmission           # TC[t][i]\n",
    "#############################################################\n",
    "def emission(firm_id,fuel_choice,fuel_consumed,factor):\n",
    "    emision_factor = fuel_data[(fuel_choice[firm_id])][factor]\n",
    "    E = emision_factor * fuel_consumed #Fuel Cosnumption Cost\n",
    "    return E"
   ]
  },
  {
   "cell_type": "markdown",
   "metadata": {},
   "source": [
    "# 7. Discounting"
   ]
  },
  {
   "cell_type": "code",
   "execution_count": null,
   "metadata": {},
   "outputs": [],
   "source": [
    "# #############################################################\n",
    "#         Equation(6):   Discount rate [i]\n",
    "#############################################################\n",
    "def discount(t,firm_id):\n",
    "    dis_multiplier= (np.power(1+discount_rate[:,firm_id],-t))\n",
    "    return dis_multiplier "
   ]
  },
  {
   "cell_type": "markdown",
   "metadata": {},
   "source": [
    "# 7 Input and Calibration"
   ]
  },
  {
   "cell_type": "code",
   "execution_count": null,
   "metadata": {},
   "outputs": [],
   "source": [
    "#######################################################\n",
    "#-------Time Horizon for the study:2016-2040----------#\n",
    "######################################################\n",
    "t0 = 2016 #The starting year for evaluation of the pay-offs\n",
    "T = 35  # Planning Horizon t = 2016,...,2040 # 100 year scope \n",
    "year = np.arange(2016, 2051)\n",
    "\n",
    "#######################################################\n",
    "#-------Route Characteristics----------#\n",
    "######################################################\n",
    "d = 11810 #nautical miles #Notteboom (2006)\n",
    "t_port = 280 #hours ==> 11 days in a year  #Notteboom (2006)\n",
    "\n",
    "######################################################\n",
    "#-----------Market Demand from 2016-2020 -----------#\n",
    "######################################################\n",
    "demand_income_elasticity = 0.8 #Constant income elasticity #IMF\n",
    "demand_price_elasticity = -0.7 #Constant own price elasticity#IMF\n",
    "y_16_20 = np.array([1303780  for j in range(5)]) #in TEU #placehplder to be calibrated with the chosen route \n",
    "#print(y_16_20) # Actual Port flow to validate industry projection \n",
    "\n",
    "######################################################\n",
    "#-------------- # of Agents in the market -----------#\n",
    "######################################################\n",
    "n_firm= 2 #number of firms gvoerning  the industry\n",
    "siz = T*n_firm\n",
    "#print(n_firm)\n",
    "\n",
    "##############################################################\n",
    "#       Firm Level Supply,\n",
    "#############################################################\n",
    "k = np.array([5905,6470]) # TEU Post PANAMAX, PANAMAX  # Vessel capacity in TEU per firm, # vector size = [1,n_Firms]\n",
    "tau = 6480 #hours per year, assumption \n",
    "\n",
    "##############################################################\n",
    "#      Fleet Structure,\n",
    "#############################################################\n",
    "n_0 = np.array([50,50]) #Initilise # of vessel per firm at t=0, size needs to match # of firms\n",
    "n = np.tile(n_0, (T, 1)) #brodcast # of vessels along the planning horizon\n",
    "\n",
    "#-----------------------------------------------------------# \n",
    "#      Revenue Calibration ,\n",
    "#-----------------------------------------------------------#\n",
    "\n",
    "######################################################\n",
    "#-----------freight rates ---------------------------#\n",
    "######################################################\n",
    "#freight_rate_16_20 = np.array([1800 for j in range(5)]) #placehplder to be calibrated with the chosen route \n",
    "initial_reight_rate = 1800 ## in US$/TEU\n",
    "freight_rate = np.array([1800 for j in range(T)]) ## in US$/TEU\n",
    "\n",
    "#-----------------------------------------------------------# \n",
    "#      Cost Calibration ,\n",
    "#-----------------------------------------------------------#\n",
    "\n",
    "##############################################################\n",
    "#      Fuel Consumption Calibration ,\n",
    "#############################################################\n",
    "SFOC_m = 206 #g/kWh, specific daily main engine fuel oil consumption rate\n",
    "SFOC_a = 221 # specific fuel oil consumption of the auxiliary engine [g/kW h], \n",
    "EL_m = 0.8 # % \n",
    "EL_a = 0.5 # engine load of the auxiliary engine [\\%]\n",
    "\n",
    "#this inputs vaires across firm\n",
    "V_s = np.array([23.3, 24.7])  #design speed of the vessel in knots\n",
    "V_min = np.array([8.5, 8.5]) #min vessel speed\n",
    "V_max = np.array([30, 30] )#max vessel speed\n",
    "                 \n",
    "PS_m =  np.array([41186,56273])  # main engine power in kW\n",
    "PS_a =  np.array([2433,2433])  # auxiliary engine power [kW] \n",
    "\n",
    "#############################################################\n",
    "#      Operating Costs per vessel type\n",
    "#############################################################\n",
    "C_fix = np.array([6750000, 6750000 ]) #Daily cost of vessel (USD/Day) $25,000\n",
    "\n",
    "\n",
    "\n",
    "##############################################################\n",
    "#      Emission & Bunker Fuel Calibration ,\n",
    "#############################################################\n",
    "fuel_data = pd.DataFrame(np.array([[422.50, 525.50, 597.00], \n",
    "                                [3.114,3.206,3.206],\n",
    "                                [0.07,0.01,0.002]]),\n",
    "                         columns=['HFO', 'ULSFO', 'MGO'],\n",
    "                         index = ['price', 'carbon_factor', 'sulfur_factor'])\n",
    "#print(fuel_data)\n",
    "\n",
    "#############################################################\n",
    "#      Discount rate\n",
    "#############################################################\n",
    "discount_rate=np.array([[0.02,0.02] for j in range(T)])\n",
    "##3  to 5 % transport canada \n",
    "#to be updated using the Ramsey rule = pure rate of time preference of 1.5% + growth rate of consumption g * rate of risk conversion , an elasticity value of 2 "
   ]
  },
  {
   "cell_type": "code",
   "execution_count": null,
   "metadata": {},
   "outputs": [],
   "source": []
  },
  {
   "cell_type": "code",
   "execution_count": null,
   "metadata": {},
   "outputs": [],
   "source": [
    "firm_total_capacity = n_0 * k"
   ]
  },
  {
   "cell_type": "markdown",
   "metadata": {},
   "source": [
    "# 8. Objective"
   ]
  },
  {
   "cell_type": "code",
   "execution_count": null,
   "metadata": {},
   "outputs": [],
   "source": [
    "#############################################################\n",
    "#               NPV payoff per firm id                #\n",
    "#############################################################\n",
    "def dis_payoff_firm(BAU_speed,q):\n",
    "# 1. Compute firm level optimum ship supply given firm demand  #\n",
    "    vessel_supply = supply(BAU_speed,x,t_port,k,n,firm_id,q)\n",
    "# 3. Compute Firm level revenues in each period #\n",
    "    rev = np.multiply(freight_rate,q)  \n",
    "# 4. Compute  firm level fuel consumption  #    \n",
    "    fuel_consumed = fuel_cons(V_s,BAU_speed,SFOC_m,SFOC_a,EL_m,EL_a,PS_m,PS_a,firm_id,vessel_supply)\n",
    "# 5. Compute Firm level Cost in each period #\n",
    "    C =cost(fuel_consumed,vessel_supply,C_fix,fuel_choice,firm_id)\n",
    "#6.Compute CO2 emissions\n",
    "    E_car = emission(firm_id,fuel_choice,fuel_consumed,'carbon_factor')\n",
    "#7.Compute Sulfur emissions\n",
    "    E_sulfur = emission(firm_id,fuel_choice,fuel_consumed,'sulfur_factor')\n",
    "# 8. Compute Firm level profit in each period #\n",
    "    payoff_BAU = np.subtract(rev,C)\n",
    "# 9. Compute discounted Firm level profit #\n",
    "    for ind in range (T):\n",
    "        payoff_BAU_disco = np.multiply(discount(ind,firm_id),payoff_BAU[ind])  \n",
    "    #print(payoff_BAU)\n",
    "    NPV_payoff_BAU = payoff_BAU_disco.sum(axis = 0) #Sum over planning horizon\n",
    "    #print(BAU_speed)\n",
    "    #print('total payoff' ,total_payoff_BAU)\n",
    "    return NPV_payoff_BAU"
   ]
  },
  {
   "cell_type": "code",
   "execution_count": null,
   "metadata": {},
   "outputs": [],
   "source": [
    "#############################################################\n",
    "#              Return Results               #\n",
    "#############################################################\n",
    "def dis_Results(BAU_speed,q):\n",
    "# 1. Compute firm level optimum ship supply given firm demand  #\n",
    "    vessel_supply = supply(BAU_speed,x,t_port,k,n,firm_id,q)\n",
    "# 3. Compute Firm level revenues in each period #\n",
    "    rev = np.multiply(freight_rate,q)  \n",
    "# 4. Compute  firm level fuel consumption  #    \n",
    "    fuel_consumed = fuel_cons(V_s,BAU_speed,SFOC_m,SFOC_a,EL_m,EL_a,PS_m,PS_a,firm_id,vessel_supply)\n",
    "# 5. Compute Firm level Cost in each period #\n",
    "    C =cost(fuel_consumed,vessel_supply,C_fix,fuel_choice,firm_id)\n",
    "#6.Compute CO2 emissions\n",
    "    E_car = emission(firm_id,fuel_choice,fuel_consumed,'carbon_factor')\n",
    "#7.Compute Sulfur emissions\n",
    "    E_sulfur = emission(firm_id,fuel_choice,fuel_consumed,'sulfur_factor')\n",
    "# 8. Compute Firm level profit in each period #\n",
    "    payoff_BAU = np.subtract(rev,C)\n",
    "# 9. Compute discounted Firm level profit #\n",
    "    for ind in range (T):\n",
    "        payoff_BAU_disco = np.multiply(discount(ind,firm_id),payoff_BAU[ind])  \n",
    "    #print(payoff_BAU)\n",
    "    NPV_payoff_BAU = payoff_BAU_disco.sum(axis = 0) #Sum over planning horizon\n",
    "    #print(BAU_speed)\n",
    "    #print('total payoff' ,total_payoff_BAU)   \n",
    "    return vessel_supply,q,rev,fuel_consumed,C,E_car,E_sulfur,payoff_BAU,NPV_payoff_BAU"
   ]
  },
  {
   "cell_type": "markdown",
   "metadata": {},
   "source": [
    "## Genetic algorithms heuristic approach: \n",
    "1. Create the population\n",
    "2. Determine fitness\n",
    "3. Select the mating pool\n",
    "4. Breed\n",
    "5. Mutate \n",
    "6. Repeat"
   ]
  },
  {
   "cell_type": "code",
   "execution_count": 5,
   "metadata": {},
   "outputs": [],
   "source": [
    "import numpy as np # importing numpy for matrix operations \n",
    "from scipy import *\n",
    "from scipy.optimize import minimize\n",
    "import pandas as pd\n",
    "import matplotlib.pyplot as plt\n",
    "import seaborn as sns\n",
    "from IPython import display \n",
    "import itertools\n",
    "from IPython.display import display\n",
    "import random, operator"
   ]
  },
  {
   "cell_type": "code",
   "execution_count": 6,
   "metadata": {},
   "outputs": [],
   "source": [
    "class Firm:\n",
    "    #class attributes intialisation, to be updated with the addition of each instance\n",
    "    _registry = []\n",
    "    \n",
    "    def __init__(self, index, capacity, number_of_vessel, design_speed, \n",
    "                 min_speed, max_speed, main_engine_power, aux_engine_power,\n",
    "                 fix_cost, fuel_type):\n",
    "        '''__init__ a method to describe the poperty that all shipping firm have'''\n",
    "        self._registry.append(self)\n",
    "        self.index = index\n",
    "        self.capacity = capacity # Vessel capacity in TEU per firm, \n",
    "        self.number_of_vessel = number_of_vessel # # of vessels per firms\n",
    "        self.design_speed = design_speed  #design speed of the vessel in knots\n",
    "        self.min_speed = min_speed #min vessel speed\n",
    "        self.max_speed = max_speed #max vessel speed         \n",
    "        self.main_engine_power =  main_engine_power  # PS_m : main engine power in kW\n",
    "        self.aux_engine_power =  aux_engine_power  # auxiliary engine power [kW] \n",
    "        self.fix_cost = fix_cost #Daily cost of vessel (USD/Day) $25,000\n",
    "        self.fuel_type = fuel_type\n",
    "        #self.bau_emission = bau_emission\n",
    "         \n",
    "    @classmethod\n",
    "    #def update_number_of_firm(cls):\n",
    "     #   cls.number_of_firms += 1\n",
    "     #   return cls.number_of_firms\n",
    "    \n",
    "    @classmethod\n",
    "    #def update_market_capacity(cls, self):\n",
    "     #   cls.market_capacity +=  self.number_of_vessel * self.capacity\n",
    "      #  return cls.market_capacity\n",
    "\n",
    "   \n",
    "    # Firm methods \n",
    "    def get_market_share(self):\n",
    "        '''return market share of the firm accoding to it s capacity'''\n",
    "        transport_capacity = np.multiply(n ,k )\n",
    "        total_transport_capacity = np.tile(((np.sum(np.multiply(n,k), axis=1)).reshape(T, 1)),(1,n_firm))\n",
    "        s = np.divide(transport_capacity, total_transport_capacity)\n",
    "        #return\n",
    "        pass\n",
    "    \n",
    "    def get_firm_param():\n",
    "        #return psy \n",
    "        pass\n",
    "    \n",
    "    def get_firm_demand(self, market_demand):\n",
    "        pass\n",
    "    \n",
    "    def get_voyage_time(self, n, k, n_firm):\n",
    "        pass\n",
    "\n",
    "    def get_min_vessel(self, n, k, n_firm):\n",
    "        pass\n",
    "            \n",
    "    def get_supply(self,BAU_speed,x,t_port,k,n,firm_id,q):\n",
    "        pass\n",
    "        \n",
    "    def get_ship_energy_efficiency():\n",
    "        pass\n",
    "        \n",
    "    def get_main_fuel_cons(self,V_s,BAU_speed,SFOC_m,SFOC_a,EL_m,EL_a,PS_m,PS_a,firm_id,vessel_supply):\n",
    "        pass\n",
    "    \n",
    "    def get_aux_fuel_cons(self,V_s,BAU_speed,SFOC_m,SFOC_a,EL_m,EL_a,PS_m,PS_a,firm_id,vessel_supply): \n",
    "        pass\n",
    "        \n",
    "    def get_fuel_cons(self,V_s,BAU_speed,SFOC_m,SFOC_a,EL_m,EL_a,PS_m,PS_a,firm_id,vessel_supply):\n",
    "        pass\n",
    "        \n",
    "    def get_fuel_cost(self,fuel_consumed,vessel_supply,C_fix,fuel_choice,firm_id):\n",
    "        pass\n",
    "    \n",
    "    def get_total_cost(self):\n",
    "        pass\n",
    "    \n",
    "    def get_revenue(self):\n",
    "        pass\n",
    "    \n",
    "    def get_period_profits(self):\n",
    "        pass\n",
    "    \n",
    "    def get_discounted_period_profit(self):\n",
    "        pass\n",
    "    \n",
    "    def get_firm_emission(self,firm_id,fuel_choice,fuel_consumed,factor):\n",
    "        pass\n",
    "            \n",
    "    def get_firm_abatement_benefits():\n",
    "        pass"
   ]
  },
  {
   "cell_type": "code",
   "execution_count": 7,
   "metadata": {},
   "outputs": [],
   "source": [
    "class MarketConfig: \n",
    "    \"\"\"Market Configuration and simulation game set up\n",
    "    .. version: : 0.1\n",
    "    \n",
    "    Parameters\n",
    "    ----------\n",
    "    \n",
    "    Attributes\n",
    "    ----------\n",
    "    \n",
    "    \"\"\"\n",
    "    #class attributes\n",
    "    t0 = 2016 #The starting year for evaluation of the pay-offs\n",
    "    T = 35  # Planning Horizon t = 2016,...,2040 # 100 year scope \n",
    "    year = np.arange(2016, 2051)\n",
    "    distance = 11810 #nautical miles #Notteboom (2006)  \n",
    "    port_time = 264 #hours ==> 11 days in a year  #Notteboom (2006)\n",
    "    demand_16_20 = np.array([1303780  for j in range(5)]) #in TEU #placehplder to be calibrated with the chosen route \n",
    "    annual_working_time = 6480 #hours per year, assumption   #hours per year, assumption \n",
    "    initial_freight_rate = 1800 ## in US$/TEU \n",
    "    SFOC_main = 206 #g/kWh, specific daily main engine fuel oil consumption rate\n",
    "    SFOC_aux = 221 # specific fuel oil consumption of the auxiliary engine [g/kW h], \n",
    "    eng_load_main = 0.8 # % \n",
    "    eng_load_aux = 0.5 # engine load of the auxiliary engine [\\%]\n",
    "\n",
    "\n",
    "    def __init__(self, number_of_firms, demand_income_elasticity, demand_price_elasticity, \n",
    "                 freight_rate, fuel_data, discount_rate ):\n",
    "        '''__init__ a method to describe the poperty that the shipping market and simulation game has'''\n",
    "        self.number_of_firms = number_of_firms\n",
    "        self.demand_income_elasticity = demand_income_elasticity #Constant income elasticity #IMF\n",
    "        self.demand_price_elasticity =  demand_price_elasticity #Constant own price elasticity#IMF\n",
    "        self.freight_rate = freight_rate ## in US$/TEU\n",
    "        self.fuel_data = fuel_data \n",
    "        self.discount_rate = discount_rate \n",
    "        #self.bau_industry_emission =  bau_industry_emission \n",
    "        #self.bau_pollution_stock = bau_pollution_stock\n",
    "        self.market_capacity = 0 \n",
    "        self.pollution_stock = 0\n",
    "        self.industry_damage = 0\n",
    "        self.global_abatement_benefits = 0\n",
    "    \n",
    "    def get_market_capacity (self, firm_instance):\n",
    "        self.market_capacity += firm_instance.number_of_vessel * firm_instance.capacity\n",
    "        return self.market_capacity \n",
    "    \n",
    "    def get_freight_rate_ratio(self): \n",
    "        \"\"\" Compute freight rate ratios for passethrough analysis \n",
    "        Parameters\n",
    "        ----------\n",
    "        Returns\n",
    "        -------\n",
    "        beta : \n",
    "        \"\"\"\n",
    "        self.beta = np.divide(self.freight_rate, MarketConfig.initial_freight_rate) \n",
    "        return self.beta\n",
    "\n",
    "    \n",
    "    def get_market_demand(self):\n",
    "        '''compute market level demand'''\n",
    "        #---------> 1.Import real GDP growth data & compute GDP ratio : Source IMF@2020 #\n",
    "        G_df = pd.read_csv('./data/real_growth_rate.csv') #import IMF data\n",
    "        #-------> 2.Construct GDP projection path 2016-2050 based on projection growth data \n",
    "        gdp_growth= G_df.values[:,1:] \n",
    "        g =1 +(gdp_growth/100)  \n",
    "        self.gdp = np.array([100.00 for j in range(MarketConfig.T)])\n",
    "        for foo in range (1,MarketConfig.T):\n",
    "            self.gdp[foo] = g[:,foo]* self.gdp[foo-1]\n",
    "        #print(self.gdp)\n",
    "        #--------->  \"compute GDP ratio based on IMF@2020\"\n",
    "        gdp_ratio = np.array([1.00 for j in range(MarketConfig.T)])\n",
    "        for moo in range (1,MarketConfig.T):\n",
    "            sub_g = g[:,0:moo+1]\n",
    "            #print(sub_g)\n",
    "            gdp_ratio[moo] = np.prod(sub_g)\n",
    "        \n",
    "        #--------->  \"compute freight rate ratio\"\n",
    "        self.freight_rate_ratio_multiplied = np.power(self.beta, self.demand_price_elasticity)\n",
    "        #print(freight_rate_ratio_multiplied)\n",
    "        \n",
    "        #---------> \"Project Transport Demand (industry demand)\"\n",
    "        loo =np.multiply(np.power(gdp_ratio, self.demand_income_elasticity), self.freight_rate_ratio_multiplied ) #Will need to be updated in case fuel prices are varied over time  \n",
    "        self.market_demand = np.multiply(loo, MarketConfig.demand_16_20[0])\n",
    "        #print(Y) # size = 1 dimesion array with size T=35 years\n",
    "        return self.market_demand, self.gdp\n",
    "\n",
    "    \n",
    "    \n",
    "    def get_industry_emission(self):\n",
    "        pass\n",
    "    \n",
    "    def get_pollution_stock(self):\n",
    "        pass\n",
    "    \n",
    "    def get_damage(self):\n",
    "        pass\n",
    "    \n",
    "    def get_global_abatement_benefits(self):\n",
    "        pass \n",
    "\n"
   ]
  },
  {
   "cell_type": "code",
   "execution_count": 8,
   "metadata": {},
   "outputs": [],
   "source": [
    "\n",
    "#-------------------------------------------------- MAIN ------------------------------------------------------------- #\n",
    "\n",
    "####################################### 1. Firm & Market specific Parameters ###########################################\n",
    "\n",
    "                    #===========================>  Firm 1 Attributes <==========================#\n",
    "index_1 = 1\n",
    "capacity_1 = 5905\n",
    "number_of_vessel_1= 50\n",
    "design_speed_1 = 23.3 #design speed of the vessel in knots\n",
    "min_speed_1 = 8.5\n",
    "max_speed_1 = 30\n",
    "main_engine_power_1 = 41186 # main engine power in kW\n",
    "aux_engine_power_1 = 2433 # auxiliary engine power [kW] \n",
    "fix_cost_1 =  6750000  #Daily cost of vessel (USD/Day) $25,000\n",
    "fuel_type_1 = \"HFO\"\n",
    "\n",
    "                    #===========================>  Firm 2 Attributes <==========================#\n",
    "index_2 = 2\n",
    "capacity_2 = 6470\n",
    "number_of_vessel_2 = 50\n",
    "design_speed_2 = 24.7 #design speed of the vessel in knots\n",
    "min_speed_2 = 8.5\n",
    "max_speed_2 = 30\n",
    "main_engine_power_2 = 56273 # main engine power in kW\n",
    "aux_engine_power_2 =  2433 # auxiliary engine power [kW] \n",
    "fix_cost_2 = 6750000 #Daily cost of vessel (USD/Day) $25,000\n",
    "fuel_type_2 = \"HFO\"\n",
    "\n",
    "\n",
    "                    #===========================> Market Attributes <==========================#\n",
    "firms = 2\n",
    "income_elasticity = 0.8 #Constant income elasticity #IMF\n",
    "price_elasticity = -0.7 #Constant own price elasticity#IMF\n",
    "freight_rate = 1800 ## in US$/TEU\n",
    "fuel_data = pd.DataFrame(np.array([[422.50, 525.50, 597.00], \n",
    "                                [3.114,3.206,3.206],\n",
    "                                [0.07,0.01,0.002]]),\n",
    "                         columns=['HFO', 'ULSFO', 'MGO'],\n",
    "                         index = ['price', 'carbon_factor', 'sulfur_factor'])\n",
    "discount = 0.02  ##3  to 5 % transport canada ,#to be updated using the Ramsey rule,#pure rate of time preference of 1.5% + growth rate of consumption g * rate of risk conversion , an elasticity value of 2"
   ]
  },
  {
   "cell_type": "code",
   "execution_count": 9,
   "metadata": {},
   "outputs": [
    {
     "data": {
      "text/plain": [
       "618750"
      ]
     },
     "execution_count": 9,
     "metadata": {},
     "output_type": "execute_result"
    }
   ],
   "source": [
    "####################################### 2.Simulation Game Initialisation ###########################################\n",
    "firm_1 = Firm(index_1, capacity_1, number_of_vessel_1, design_speed_1, \n",
    "                 min_speed_1, max_speed_1, main_engine_power_1, aux_engine_power_1,\n",
    "                 fix_cost_1, fuel_type_1) \n",
    "\n",
    "firm_2 = Firm(index_2, capacity_2, number_of_vessel_2, design_speed_2, \n",
    "                 min_speed_2, max_speed_2, main_engine_power_2, aux_engine_power_2,\n",
    "                 fix_cost_2, fuel_type_2) \n",
    "\n",
    "game_config = MarketConfig(firms, income_elasticity, price_elasticity, freight_rate, \n",
    "                           fuel_data, discount)\n",
    "\n",
    "####################################### 3.Get market capacity #################################\n",
    "for  firm_object in Firm._registry:\n",
    "    game_config.get_market_capacity(firm_object)\n",
    "    \n",
    "game_config.market_capacity"
   ]
  },
  {
   "cell_type": "code",
   "execution_count": 10,
   "metadata": {},
   "outputs": [
    {
     "ename": "TypeError",
     "evalue": "__init__() missing 9 required positional arguments: 'capacity', 'number_of_vessel', 'design_speed', 'min_speed', 'max_speed', 'main_engine_power', 'aux_engine_power', 'fix_cost', and 'fuel_type'",
     "output_type": "error",
     "traceback": [
      "\u001b[1;31m---------------------------------------------------------------------------\u001b[0m",
      "\u001b[1;31mTypeError\u001b[0m                                 Traceback (most recent call last)",
      "\u001b[1;32m<ipython-input-10-42f1856a04d5>\u001b[0m in \u001b[0;36m<module>\u001b[1;34m\u001b[0m\n\u001b[0;32m     10\u001b[0m \u001b[1;33m\u001b[0m\u001b[0m\n\u001b[0;32m     11\u001b[0m \u001b[1;33m\u001b[0m\u001b[0m\n\u001b[1;32m---> 12\u001b[1;33m \u001b[0mfirm_1\u001b[0m \u001b[1;33m=\u001b[0m \u001b[0mFirm\u001b[0m\u001b[1;33m(\u001b[0m\u001b[1;34m\"firm_1\"\u001b[0m\u001b[1;33m,\u001b[0m \u001b[1;33m)\u001b[0m\u001b[1;33m\u001b[0m\u001b[1;33m\u001b[0m\u001b[0m\n\u001b[0m",
      "\u001b[1;31mTypeError\u001b[0m: __init__() missing 9 required positional arguments: 'capacity', 'number_of_vessel', 'design_speed', 'min_speed', 'max_speed', 'main_engine_power', 'aux_engine_power', 'fix_cost', and 'fuel_type'"
     ]
    }
   ],
   "source": [
    "    def distance(self, firm):\n",
    "        xDis = abs(self.x - firm.x)\n",
    "        yDis = abs(self.y - firm.y)\n",
    "        \n",
    "        distance = np.sqrt((xDis ** 2) + (yDis ** 2))\n",
    "        return distance\n",
    "    \n",
    "    def __repr__(self):\n",
    "        return \"(\" + str(self.x) + \",\" + str(self.y) + \")\"\n",
    "    \n",
    "    \n",
    "firm_1 = Firm(\"firm_1\", )"
   ]
  },
  {
   "cell_type": "code",
   "execution_count": null,
   "metadata": {},
   "outputs": [],
   "source": [
    "class Fitness:\n",
    "    def __init__(self, route):\n",
    "        self.route = route\n",
    "        self.distance = 0 #previous fnction \n",
    "        self.fitness= 0.0\n",
    "    \n",
    "    def routeDistance(self):\n",
    "        if self.distance ==0:\n",
    "            pathDistance = 0\n",
    "            for i in range(0, len(self.route)):\n",
    "                fromCity = self.route[i]\n",
    "                toCity = None\n",
    "                if i + 1 < len(self.route):\n",
    "                    toCity = self.route[i + 1]\n",
    "                else:\n",
    "                    toCity = self.route[0]\n",
    "                pathDistance += fromCity.distance(toCity)\n",
    "            self.distance = pathDistance\n",
    "        return self.distance\n",
    "    \n",
    "    def routeFitness(self):\n",
    "        if self.fitness == 0:\n",
    "            self.fitness = 1 / float(self.routeDistance())\n",
    "        return self.fitness"
   ]
  },
  {
   "cell_type": "markdown",
   "metadata": {},
   "source": [
    "## Create our initial population\n",
    "We now can make our initial population (aka first generation). To do so, we need a way to create a function that produces routes that satisfy our conditions (Note: we’ll create our list of cities when we actually run the GA at the end of the tutorial). To create an individual, we randomly select the order in which we visit each city:"
   ]
  },
  {
   "cell_type": "code",
   "execution_count": null,
   "metadata": {},
   "outputs": [],
   "source": [
    "def createRoute(cityList):\n",
    "    route = random.sample(cityList, len(cityList))\n",
    "    return route"
   ]
  },
  {
   "cell_type": "markdown",
   "metadata": {},
   "source": [
    "This produces one individual, but we want a full population, so let’s do that in our next function. This is as simple as looping through the createRoute function until we have as many routes as we want for our population.\n"
   ]
  },
  {
   "cell_type": "code",
   "execution_count": null,
   "metadata": {},
   "outputs": [],
   "source": [
    "def initialPopulation(popSize, cityList):\n",
    "    population = []\n",
    "\n",
    "    for i in range(0, popSize):\n",
    "        population.append(createRoute(cityList))\n",
    "    return population"
   ]
  },
  {
   "cell_type": "markdown",
   "metadata": {},
   "source": [
    "## Running the genetic algorithm"
   ]
  },
  {
   "cell_type": "code",
   "execution_count": null,
   "metadata": {},
   "outputs": [],
   "source": [
    "#solution list ??\n",
    "solutionList = []\n",
    "\n",
    "for i in range(0,25):\n",
    "    solutionList.append(Firm(vessel_speed=int(random.random() * 200), =int(random.random() * 200)))"
   ]
  },
  {
   "cell_type": "code",
   "execution_count": null,
   "metadata": {},
   "outputs": [],
   "source": [
    "geneticAlgorithm(population=solutionList, \n",
    "                 popSize=100, \n",
    "                 eliteSize=20, \n",
    "                 mutationRate=0.01, \n",
    "                 generations=500)"
   ]
  },
  {
   "cell_type": "markdown",
   "metadata": {},
   "source": [
    "## Plotting and analysis "
   ]
  },
  {
   "cell_type": "code",
   "execution_count": null,
   "metadata": {},
   "outputs": [],
   "source": [
    "GENETIC ALGORITHM STEPS\n",
    "1. CREATE INITIAL POPULATION\n",
    "2. EVALUATE THE FITNESS  OF EACH INDIVIDUAL\n",
    "3. SELECT THE PARENTS BASED ON FITNESS\n",
    "4. CREATE A NEW POPULATION\n",
    "'''\n",
    "\n",
    "\n",
    "import numpy as np\n",
    "import matplotlib.pyplot as plt\n",
    "\n",
    "def _fitness(x):\n",
    "    #x = np.array(x)\n",
    "    if x > -11 and x < 11:\n",
    "        y = (x**2+x)*np.cos(2*x)\n",
    "        return round(y, 6)\n",
    "    else:\n",
    "        return 0\n",
    "\n",
    "'''\n",
    "def _fitness(x):\n",
    "    if x > -11 and x < 11:\n",
    "        y = x**2 + x + 10\n",
    "        return round(y, 6)\n",
    "    else:\n",
    "        return 0\n",
    "'''\n",
    "\n",
    "fitness = np.vectorize(_fitness)\n",
    "\n",
    "\n",
    "\n",
    "def _get_fittest_parent(parents, fitness):\n",
    "    _fitness = fitness(parents)\n",
    "    PFitness = list(zip(parents, _fitness))\n",
    "    PFitness.sort(key = lambda x: x[1], reverse=True)\n",
    "    best_parent, best_fitness = PFitness[0]\n",
    "    return round(best_parent, 4), round(best_fitness, 4)\n",
    "    \n",
    "\n",
    "\n",
    "def _generate_parents(population):\n",
    "    parents = np.random.choice(population, size=30)\n",
    "    return parents\n",
    "\n",
    "def _mutate(parents, fitness, percent = 0.10):\n",
    "    scores = fitness(parents)\n",
    "    PFitness = list(zip(parents, scores))\n",
    "    PFitness.sort(key=lambda x: x[1], reverse=True) ## ascending\n",
    "    n = len(parents)\n",
    "    n_parents = np.ceil(n*percent).astype('int')\n",
    "    fittest_parents = np.array([par for par, _ in PFitness[:n_parents] ])\n",
    "    children = np.random.choice(fittest_parents, size=n) + np.random.randn(n)\n",
    "    #children = np.random.uniform(mu-sd, mu+sd, size = n).tolist()\n",
    "    return children.tolist() ## new parents\n",
    "    \n",
    "\n",
    "def find_best_fit_W(population, fitness, initialize_fn, mutate_fn, max_iter = 10):\n",
    "    firstparents = initialize_fn(population)\n",
    "    History = []\n",
    "    ## initial parents; gen zero\n",
    "    _get_fittest_parent(firstparents, fitness)\n",
    "    best_parent, best_fitness = _get_fittest_parent(firstparents, fitness)\n",
    "    \n",
    "    ## first generation\n",
    "    parents = _mutate(firstparents, fitness=fitness)\n",
    "    curr_parent, curr_fitness = _get_fittest_parent(parents, fitness)\n",
    "    i = 1\n",
    "    print('generation {}| best fitness {}| current fitness {} | current_parent {}'.format(i, best_fitness, curr_fitness, curr_parent))\n",
    "    \n",
    "    \n",
    "    ## next generation\n",
    "    while np.abs(curr_fitness - best_fitness) > 0.1:\n",
    "        if curr_fitness > best_fitness:\n",
    "            best_fitness = curr_fitness\n",
    "            best_parent = curr_parent\n",
    "            \n",
    "        i += 1\n",
    "        parents = _mutate(parents, fitness=fitness)\n",
    "        curr_parent, curr_fitness = _get_fittest_parent(parents, fitness)\n",
    "        print('generation {}| best fitness {}| current fitness {} | current_parent {}'.format(i, best_fitness, curr_fitness, curr_parent))\n",
    "        History.append((i, np.mean(fitness(parents))))\n",
    "        if i > 100:\n",
    "            break\n",
    "    ## return best parents\n",
    "    print('STOP generation {}| best fitness {}| best_parent {}'.format(i, best_fitness, best_parent))\n",
    "    return best_parent, best_fitness, History\n",
    "\n",
    "\n",
    "\n",
    "\n",
    "\n",
    "if __name__ == '__main__':\n",
    "    init_pop = np.linspace(start=-15, stop=15, num=100) * 1\n",
    "    parent_, fitness_, history_ = find_best_fit_W(init_pop, fitness, _generate_parents, _mutate)\n",
    "    print('top parent {}, top fitness {}'.format(parent_, fitness_))\n",
    "    \n",
    "    x = np.linspace(start=-20, stop=20, num=100)\n",
    "\n",
    "    plt.plot(x, fitness(x))\n",
    "    plt.scatter(parent_, fitness_)\n",
    "    plt.show()\n",
    "    \n",
    "    a, b = list(zip(*history_))\n",
    "    a = np.array(a); b = np.array(b)\n",
    "    plt.plot(a, b)\n",
    "    plt.ylim(-20, 150)\n",
    "    plt.show()"
   ]
  },
  {
   "cell_type": "code",
   "execution_count": null,
   "metadata": {},
   "outputs": [],
   "source": []
  },
  {
   "cell_type": "code",
   "execution_count": null,
   "metadata": {},
   "outputs": [],
   "source": [
    "############################################################################################################\n",
    "#                     I.  Current Work in progress: Genetic Algorithm t                                             #\n",
    "############################################################################################################"
   ]
  },
  {
   "cell_type": "code",
   "execution_count": null,
   "metadata": {},
   "outputs": [],
   "source": [
    "# 1.Initialize decision variables\n",
    "ves_speed = m.Array(m.Var, T, **{'value':15.08,'lb':V_min[0],'ub':V_max[0]}) # vessel speed options\n",
    "print(f'ves_speed_initial: {ves_speed}')\n",
    "\n",
    "output_level = m.Array(m.Var, T, **{'value':0,'lb':0,'ub':firm_total_capacity[0]}) # output options\n",
    "print(f'output_level_initial: {output_level}')\n",
    "\n",
    "#ves_supply = m.Array(m.Var, T, **{'value':0,'lb':0,'ub':n_0[0], 'integer': True}) # vessel supply options\n",
    "#print(f'ves_supply_initial: {ves_supply}')"
   ]
  },
  {
   "cell_type": "code",
   "execution_count": null,
   "metadata": {},
   "outputs": [],
   "source": [
    "def dis_payoff_firm(BAU_speed,q):\n",
    "# 1. Compute firm level optimum ship supply given firm demand  #\n",
    "    vessel_supply = supply(BAU_speed,x,t_port,k,n,firm_id,q)\n",
    "# 3. Compute Firm level revenues in each period #\n",
    "    rev = np.multiply(freight_rate,q)  \n",
    "# 4. Compute  firm level fuel consumption  #    \n",
    "    fuel_consumed = fuel_cons(V_s,BAU_speed,SFOC_m,SFOC_a,EL_m,EL_a,PS_m,PS_a,firm_id,vessel_supply)\n",
    "# 5. Compute Firm level Cost in each period #\n",
    "    C =cost(fuel_consumed,vessel_supply,C_fix,fuel_choice,firm_id)\n",
    "#6.Compute CO2 emissions\n",
    "    E_car = emission(firm_id,fuel_choice,fuel_consumed,'carbon_factor')\n",
    "#7.Compute Sulfur emissions\n",
    "    E_sulfur = emission(firm_id,fuel_choice,fuel_consumed,'sulfur_factor')\n",
    "# 8. Compute Firm level profit in each period #\n",
    "    payoff_BAU = np.subtract(rev,C)\n",
    "# 9. Compute discounted Firm level profit #\n",
    "    for ind in range (T):\n",
    "        payoff_BAU_disco = np.multiply(discount(ind,firm_id),payoff_BAU[ind])  \n",
    "    #print(payoff_BAU)\n",
    "    NPV_payoff_BAU = payoff_BAU_disco.sum(axis = 0) #Sum over planning horizon\n",
    "    #print(BAU_speed)\n",
    "    #print('total payoff' ,total_payoff_BAU)\n",
    "    return NPV_payoff_BAU\n",
    "\n",
    "dis_payoff_firm(ves_speed,output_level) "
   ]
  },
  {
   "cell_type": "code",
   "execution_count": null,
   "metadata": {},
   "outputs": [],
   "source": [
    "####Equations\n",
    "m.Equation( sum(bat_weigh * x1) + sum(bulb_weigh * x2) <= 25)  # limit total weigh \n",
    "m.Equation(m.sum(x1) == 1)  # restrict choice to a single battery \n",
    "m.Equation(m.sum(x2) == 1)  # restrict choice to a single bulb\n",
    "\n",
    "m.Equation(np.prod(x)>=25)\n",
    "m.Equation(sum(x**2)==40)\n",
    "\n",
    "m.Equation(x1*x2*x3*x4>=25)\n",
    "m.Equation(x1**2+x2**2+x3**2+x4**2==40)"
   ]
  },
  {
   "cell_type": "code",
   "execution_count": null,
   "metadata": {},
   "outputs": [],
   "source": [
    "####Objective\n",
    "#1. Compute market Demand          \n",
    "Y, gdp= market_demand(demand_income_elasticity, demand_price_elasticity,freight_rate,initial_reight_rate)\n",
    "\n",
    "#2. Compute market share per firm based on transport capacity          \n",
    "s = allocation(n,k,n_firm)\n",
    "\n",
    "#2.Compute market Demand per firm:\n",
    "market_demand_per_firm = firm_quota(s) \n",
    "\n",
    "# 3. Simulation Calibration; 'Input Fuel Decision type Per firm' \n",
    "fuel_choice = np.array([\"HFO\" , \"HFO\"]) # No compliance\n",
    "\n",
    "# 3.Solve for BAU per firm\n",
    "firm_id = 0\n",
    "\n",
    "# 1. select firm level vector demand in each period for each firm  \n",
    "x = market_demand_per_firm[:,firm_id]\n",
    "    \n",
    "# 4. Solve for the Optimum BAU vessel speed for firm id\n",
    "m.Obj(dis_payoff_firm(ves_speed,output_level)) # Objective"
   ]
  },
  {
   "cell_type": "code",
   "execution_count": null,
   "metadata": {},
   "outputs": [],
   "source": [
    "####Solver\n",
    "m.solve()"
   ]
  },
  {
   "cell_type": "code",
   "execution_count": null,
   "metadata": {},
   "outputs": [],
   "source": [
    "####Print Results\n",
    "print('Results:')\n",
    "print(f'ves_speed: {ves_speed}')\n",
    "print(f'output_level: {output_level}')\n",
    "\n",
    "# print(f'battery cost: {sum(np.array([i[0] for i in x1]) * bat_cost)}')\n",
    "# print(f'battery weigh: {sum(np.array([i[0] for i in x1]) * bat_weigh)}')\n",
    "# print(f'bulb cost: {sum(np.array([i[0] for i in x2]) * bulb_cost)}')\n",
    "# print(f'bulb weigh: {sum(np.array([i[0] for i in x2]) * bulb_weigh)}')\n",
    "# print('Objective value: ' + str(m.options.objfcnval))"
   ]
  },
  {
   "cell_type": "markdown",
   "metadata": {},
   "source": [
    "# Main"
   ]
  },
  {
   "cell_type": "code",
   "execution_count": null,
   "metadata": {},
   "outputs": [],
   "source": [
    "############################################################################################################\n",
    "#                     I.  Initisatisation of the Results                                                  #\n",
    "############################################################################################################"
   ]
  },
  {
   "cell_type": "code",
   "execution_count": null,
   "metadata": {},
   "outputs": [],
   "source": [
    "#----> 1. BAU Vessel Speed\n",
    "BAU_vessel_speed_optimum = np.empty([T, n_firm],dtype=object)\n",
    "#----> 3. # of vessel allocation \n",
    "vessel_supply_BAU_optimum = np.empty([T, n_firm],dtype=object)\n",
    "#----> 4. # of vessel allocation \n",
    "q_BAU_optimum = np.empty([T, n_firm],dtype=object)\n",
    "#----> 5. # of vessel allocation \n",
    "rev_BAU_optimum = np.empty([T, n_firm],dtype=object)\n",
    "#----> 6. # of vessel allocation \n",
    "F_BAU_optimum = np.empty([T, n_firm],dtype=object)\n",
    "#----> 7. # of vessel allocation \n",
    "C_BAU_optimum = np.empty([T, n_firm],dtype=object)\n",
    "#----> 8. # of vessel allocation \n",
    "E_car_BAU_optimum = np.empty([T, n_firm],dtype=object)\n",
    "#----> 9. # of vessel allocation \n",
    "E_sulfur_BAU_optimum = np.empty([T, n_firm],dtype=object)\n",
    "#----> 10. # of vessel allocation \n",
    "payoff_BAU_optimum = np.empty([T, n_firm],dtype=object)\n",
    "#----> 11. # of vessel allocation \n",
    "NPV_payoff_BAU_optimum = np.empty([1, n_firm],dtype=object)"
   ]
  },
  {
   "cell_type": "code",
   "execution_count": null,
   "metadata": {},
   "outputs": [],
   "source": [
    "#######################################################################\n",
    "#   II. Main Simulation for Computing BAU emissions and vessel Speed     #\n",
    "######################################################################"
   ]
  },
  {
   "cell_type": "code",
   "execution_count": null,
   "metadata": {},
   "outputs": [],
   "source": [
    "#1. Compute market Demand          \n",
    "Y, gdp= market_demand(demand_income_elasticity, demand_price_elasticity,freight_rate,initial_reight_rate)"
   ]
  },
  {
   "cell_type": "code",
   "execution_count": null,
   "metadata": {},
   "outputs": [],
   "source": [
    "#======> Plotting BAU GDP,2016=100\n",
    "sns.set()\n",
    "ax=sns.lineplot(x=year ,y =gdp, color = 'red')\n",
    "ax.set(xlabel='year', ylabel='GDP')\n",
    "plt.title(\"BAU GDP,2016=100\" )\n",
    "plt.show()\n",
    "\n",
    "#======> Plotting Market Demand Projections in BAU senario: Y\n",
    "ax=sns.lineplot(x=year ,y =Y, color = 'green')\n",
    "ax.set(xlabel='year', ylabel='transport work in TEU')\n",
    "plt.title(\"market demand in TEU \" )\n",
    "plt.show()\n"
   ]
  },
  {
   "cell_type": "code",
   "execution_count": null,
   "metadata": {},
   "outputs": [],
   "source": [
    "#2. Compute market share per firm based on transport capacity          \n",
    "s = allocation(n,k,n_firm)"
   ]
  },
  {
   "cell_type": "code",
   "execution_count": null,
   "metadata": {},
   "outputs": [],
   "source": [
    "#2.Compute market Demand per firm:\n",
    "market_demand_per_firm = firm_quota(s) "
   ]
  },
  {
   "cell_type": "code",
   "execution_count": null,
   "metadata": {},
   "outputs": [],
   "source": [
    "# 3. Simulation Calibration; 'Input Fuel Decision type Per firm' \n",
    "fuel_choice = np.array([\"HFO\" , \"HFO\"]) # No compliance"
   ]
  },
  {
   "cell_type": "code",
   "execution_count": null,
   "metadata": {},
   "outputs": [],
   "source": [
    "# 3.Solve for BAU per firm\n",
    "for firm_id in range(n_firm):\n",
    "    # 1. select firm level vector demand in each period for each firm  \n",
    "    x = market_demand_per_firm[:,firm_id]\n",
    "    \n",
    "    #############################################################################################################\n",
    "    #                      Decision Variable Initialisatiom  #\n",
    "    ###############################################################################################################      \n",
    "    BAU_speed_in= np.array([15.08 for j in range(T)]) # knots  \n",
    "    q = x\n",
    "    \n",
    "    ##############################################################################################################\n",
    "    #                       Optimisation Algorithm for solving for vessel Speed #\n",
    "    ###############################################################################################################\n",
    "    #===============> #3. Vessel Speed levels should be between V_min and V_max 0\n",
    "    bnds = [(V_min[firm_id], V_max[firm_id])]*T\n",
    "    #===============> # 4. Solve for the Optimum BAU vessel speed for firm id\n",
    "    #BAU = minimize(dis_payoff_firm, BAU_speed_in, method='SLSQP', options={'xtol': 1e-8, 'disp': True} ,bounds=bnds,constraints=cons) \n",
    "    #===============> #5. Store Results for each firm\n",
    "    \n",
    "    ##############################################################################################################\n",
    "    #                       Vessel Speed Solution  # \n",
    "    ###############################################################################################################\n",
    "    #'place holder till I figure out the optimisation algorithm'\n",
    "    #BAU_vessel_speed_optimum[:,firm_id] = BAU.x\n",
    "    #print(\"The optimum vessel speed per firm is \",BAU_vessel_speed_optimum)\n",
    "    BAU_vessel_speed_optimum[:,firm_id] = BAU_speed_in\n",
    "    \n",
    "    ##############################################################################################################\n",
    "    #                       Store Results for the solved Vessel Speed  #\n",
    "    ###############################################################################################################\n",
    "    vessel_supply_BAU_optimum[:,firm_id],q_BAU_optimum[:,firm_id], \\\n",
    "    rev_BAU_optimum[:,firm_id],F_BAU_optimum[:,firm_id],C_BAU_optimum[:,firm_id],E_car_BAU_optimum[:,firm_id], \\\n",
    "    E_sulfur_BAU_optimum[:,firm_id],payoff_BAU_optimum[:,firm_id],NPV_payoff_BAU_optimum[0,firm_id] = dis_Results(BAU_vessel_speed_optimum[:,firm_id],q)\n",
    "      \n",
    "    #print(\"fuelconsum\",F_BAU_optimum)\n",
    "    #print(BAU)\n",
    "    #print('The total payoff of the coalition : ',- BAU.fun) #-total_payoff_BAU\n",
    "    #print('Vessel speed for firm', firm_id  ,'is', BAU.x) # BAU_speed\n",
    "    print('--------Next firm now')"
   ]
  },
  {
   "cell_type": "markdown",
   "metadata": {},
   "source": [
    "# BAU: The benchmark : Plotting and Analysis"
   ]
  },
  {
   "cell_type": "markdown",
   "metadata": {},
   "source": [
    "## 1. Market and firm level Demand"
   ]
  },
  {
   "cell_type": "code",
   "execution_count": null,
   "metadata": {},
   "outputs": [],
   "source": [
    "#Create combo chart\n",
    "fig, ax1 = plt.subplots(figsize=(10,6))\n",
    "color = 'tab:green'\n",
    "\n",
    "##############################################################\n",
    "#   Firm Demand\n",
    "#############################################################\n",
    "#======> convert array to pandas dataframe\n",
    "firm_demand_df = pd.DataFrame()\n",
    "firm_demand_df['year'] = year.tolist()\n",
    "for i in range (n_firm):\n",
    "    firm_demand_df[\"firm\", i+1] = market_demand_per_firm[:,i].tolist()\n",
    "\n",
    "#======> Plotting the firm level demand\n",
    "ax1.set_title('Transported quantity and demand per firm', fontsize=16)\n",
    "ax1.set_xlabel('year', fontsize=16)\n",
    "ax1.set_ylabel('Transport demand', fontsize=16)\n",
    "ax1 = sns.lineplot('year', 'firm demand', hue='firm', data=pd.melt(firm_demand_df, 'year', var_name='firm',value_name='firm demand'),palette='summer')\n",
    "ax1.tick_params(axis='y')    \n",
    "\n",
    "\n",
    "##############################################################\n",
    "#   Firm Tranported Qty\n",
    "#############################################################\n",
    "#======> convert array to pandas dataframe\n",
    "q_BAU_optimum_df = pd.DataFrame()\n",
    "q_BAU_optimum_df['year'] = year.tolist()\n",
    "for i in range (n_firm):\n",
    "    q_BAU_optimum_df[\"firm\", i+1] = q_BAU_optimum[:,i].tolist()\n",
    "\n",
    "#specify we want to share the same x-axis\n",
    "ax2 = ax1.twinx()\n",
    "color = 'tab:red'\n",
    "#======> Plotting the firm level vessel supply\n",
    "ax2.set_ylabel('Transported Qty per firm', fontsize=16)\n",
    "ax2 = sns.lineplot('year', 'transported quantity', hue='firm', data=pd.melt(q_BAU_optimum_df, 'year', var_name='firm',value_name='transported quantity'), color = color)\n",
    "ax2.tick_params(axis='y', color=color)\n",
    "#show plot\n",
    "plt.show()\n"
   ]
  },
  {
   "cell_type": "markdown",
   "metadata": {},
   "source": [
    "## 1. Vessel Speed"
   ]
  },
  {
   "cell_type": "code",
   "execution_count": null,
   "metadata": {},
   "outputs": [],
   "source": [
    "##############################################################\n",
    "#   Plotting Optimum Vessel Speed  \n",
    "############################################################# \n",
    "#======> convert array to pandas dataframe\n",
    "optimum_speed_vessel_df = pd.DataFrame()\n",
    "optimum_speed_vessel_df['year'] = year.tolist()\n",
    "for i in range (n_firm):\n",
    "    optimum_speed_vessel_df[\"firm\", i+1] = BAU_vessel_speed_optimum[:,i].tolist()\n",
    "    \n",
    "#======> Plotting the firm level demand\n",
    "sns.lineplot('year', 'vessel speed', hue='firm', data=pd.melt(optimum_speed_vessel_df, 'year', var_name='firm',value_name='vessel speed'))\n",
    "plt.title(\"Optimum Vessel Speed \" )\n",
    "plt.show()\n",
    "#BAU_vessel_speed_optimum\n",
    "#timum_speed_vessel_df"
   ]
  },
  {
   "cell_type": "markdown",
   "metadata": {},
   "source": [
    "## 2.Vessel Supply"
   ]
  },
  {
   "cell_type": "code",
   "execution_count": null,
   "metadata": {},
   "outputs": [],
   "source": [
    "#Create combo chart\n",
    "fig, ax1 = plt.subplots(figsize=(10,6))\n",
    "color = 'tab:green'\n",
    "\n",
    "##############################################################\n",
    "#   Vessel supply\n",
    "#############################################################\n",
    "#======> convert array to pandas dataframe\n",
    "vessel_supply_BAU_optimum_df = pd.DataFrame()\n",
    "vessel_supply_BAU_optimum_df['year'] = year.tolist()\n",
    "for i in range (n_firm):\n",
    "    vessel_supply_BAU_optimum_df[\"firm\", i+1] = vessel_supply_BAU_optimum[:,i].tolist()\n",
    "\n",
    "#======> Plotting the firm level supply\n",
    "ax1.set_title('Vessel supply per firm', fontsize=16)\n",
    "ax1.set_xlabel('year', fontsize=16)\n",
    "ax1.set_ylabel('vessel supply', fontsize=16)\n",
    "ax1 = sns.lineplot('year', 'vessel supply', hue='firm', data=pd.melt(vessel_supply_BAU_optimum_df, 'year', var_name='firm',value_name='vessel supply'),palette='summer')\n",
    "ax1.tick_params(axis='y')    \n"
   ]
  },
  {
   "cell_type": "markdown",
   "metadata": {},
   "source": [
    "## 2. Fuel Consumption "
   ]
  },
  {
   "cell_type": "code",
   "execution_count": null,
   "metadata": {
    "scrolled": true
   },
   "outputs": [],
   "source": [
    "##############################################################\n",
    "#   Plotting firm level BAU Fuel Consumption \n",
    "#############################################################\n",
    "#======> convert array to pandas dataframe\n",
    "F_BAU_optimum_df = pd.DataFrame()\n",
    "F_BAU_optimum_df['year'] = year.tolist()\n",
    "for i in range (n_firm):\n",
    "    F_BAU_optimum_df[\"firm\", i+1] = F_BAU_optimum[:,i].tolist()\n",
    "    \n",
    "#=======> Displaying Results in a table :\n",
    "#display(F_BAU_optimum_df)\n",
    "\n",
    "#======> Plotting Emmission path\n",
    "sns.lineplot('year', 'Fuel Consumption path', hue='firm', data=pd.melt(F_BAU_optimum_df, 'year', var_name='firm',value_name='Fuel Consumption path'))\n",
    "plt.title(\"Fuel Consumption Path \" )\n",
    "plt.show()"
   ]
  },
  {
   "cell_type": "markdown",
   "metadata": {},
   "source": [
    "## 6. Profits"
   ]
  },
  {
   "cell_type": "code",
   "execution_count": null,
   "metadata": {},
   "outputs": [],
   "source": [
    "##############################################################\n",
    "#   Plotting  firm payoffs\n",
    "############################################################# \n",
    "#======> convert array to pandas dataframe\n",
    "payoff_BAU_optimum_df = pd.DataFrame()\n",
    "payoff_BAU_optimum_df['year'] = year.tolist()\n",
    "for i in range (n_firm):\n",
    "    payoff_BAU_optimum_df[\"firm\", i+1] = payoff_BAU_optimum[:,i].tolist()\n",
    "    \n",
    "#=======> Displaying Results in a table :\n",
    "#display(E_car_BAU_optimum_df)\n",
    "\n",
    "#======> Plotting Emmission path\n",
    "sns.lineplot('year', 'payoff', hue='firm', data=pd.melt(payoff_BAU_optimum_df, 'year', var_name='firm',value_name='payoff'))\n",
    "plt.title(\"payoff \" )\n",
    "plt.show()\n"
   ]
  },
  {
   "cell_type": "markdown",
   "metadata": {},
   "source": [
    "# Emissions Model"
   ]
  },
  {
   "cell_type": "markdown",
   "metadata": {},
   "source": [
    "The following Table lists the emission factors of $CO_2$ and $SO_x$ for different bunkers, which has been compiled from the third IMO study and Kontovas 2014. Emission factors are in g / g of fuel\n",
    "\n",
    "| Fuel Type |tons of $CO_2$ emitted per ton of fuel burned  | tons of $SO_x$ emitted per ton of fuel burned  |\n",
    "| :- | :- | :- |\n",
    "| HFO (3.5 %) |3.114  |0.07 |   \n",
    "| ULSFO (0.5%) |3.206  | 0.01  |  \n",
    "| MGO (0.1 %) |  3.206| 0.002 |  "
   ]
  },
  {
   "cell_type": "markdown",
   "metadata": {},
   "source": [
    "-  ***Carbon dioxide emissions CO_2***\n",
    " One way to estimate $CO_2$ emissions is to multiply total bunker consumption $F_t$ by an appropriate emissions factor $ε_{CO_2}$\n",
    "$$E_{CO_2} [tonnes_{CO_2} ]=  ε_{CO_2} [\\frac{tonnes_{CO_2}}{tonnes_{fuel}}] * F_t  [tonnes_{fuel}] $$ \n",
    "\t"
   ]
  },
  {
   "cell_type": "markdown",
   "metadata": {},
   "source": [
    "- ***Sulfur oxide (SOx) emissions***\n",
    "$$ E_{SO_x} [ tonnes_{SO_x} ]  = ε_{SO_x}[\\frac{tonnes_{SO_x}}{tonnes_{fuel}}]  × F_t [tonnes_{fuel}]$$"
   ]
  },
  {
   "cell_type": "markdown",
   "metadata": {},
   "source": [
    "# 1.Firm BAU emmission path"
   ]
  },
  {
   "cell_type": "markdown",
   "metadata": {},
   "source": [
    "### Sulfur Emissions "
   ]
  },
  {
   "cell_type": "code",
   "execution_count": null,
   "metadata": {},
   "outputs": [],
   "source": [
    "##############################################################\n",
    "#   Plotting Sulfur Emission Paths\n",
    "############################################################# \n",
    "#======> convert array to pandas dataframe\n",
    "E_sulfur_BAU_optimum_df = pd.DataFrame()\n",
    "E_sulfur_BAU_optimum_df['year'] = year.tolist()\n",
    "for i in range (n_firm):\n",
    "    E_sulfur_BAU_optimum_df[\"firm\", i+1] = E_sulfur_BAU_optimum[:,i].tolist()\n",
    "    \n",
    "#=======> Displaying Results in a table :\n",
    "#display(E_sulfur_BAU_optimum_df)\n",
    "\n",
    "#======> Plotting Emmission path\n",
    "sns.lineplot('year', 'sulfur emission path', hue='firm', data=pd.melt(E_sulfur_BAU_optimum_df, 'year', var_name='firm',value_name='sulfur emission path'))\n",
    "plt.title(\"Sulfur Emission Path \" )\n",
    "plt.show()\n"
   ]
  },
  {
   "cell_type": "markdown",
   "metadata": {},
   "source": [
    "### CO2 Emissions \n",
    "\n"
   ]
  },
  {
   "cell_type": "code",
   "execution_count": null,
   "metadata": {
    "scrolled": true
   },
   "outputs": [],
   "source": [
    "##############################################################\n",
    "#   Plotting Co2 Emission Paths\n",
    "############################################################# \n",
    "#======> convert array to pandas dataframe\n",
    "E_car_BAU_optimum_df = pd.DataFrame()\n",
    "E_car_BAU_optimum_df['year'] = year.tolist()\n",
    "for i in range (n_firm):\n",
    "    E_car_BAU_optimum_df[\"firm\", i+1] = E_car_BAU_optimum[:,i].tolist()\n",
    "    \n",
    "#=======> Displaying Results in a table :\n",
    "#display(E_car_BAU_optimum_df)\n",
    "\n",
    "#======> Plotting Emmission path\n",
    "sns.lineplot('year', 'carbon emission path', hue='firm', data=pd.melt(E_car_BAU_optimum_df, 'year', var_name='firm',value_name='carbon emission path'))\n",
    "plt.title(\"carbon Emission Path \" )\n",
    "plt.show()"
   ]
  },
  {
   "cell_type": "markdown",
   "metadata": {},
   "source": [
    "# Model 2:  A non cooperative between the cartel and the singleton, a pollution game"
   ]
  },
  {
   "cell_type": "markdown",
   "metadata": {},
   "source": [
    "## Coalition & Abatement Anlysis "
   ]
  },
  {
   "cell_type": "markdown",
   "metadata": {},
   "source": [
    "# 1. Structures"
   ]
  },
  {
   "cell_type": "code",
   "execution_count": null,
   "metadata": {},
   "outputs": [],
   "source": [
    "#############################################################\n",
    "#    I. Generate Coalition Structure vector            #\n",
    "#############################################################\n",
    "#\"Singerons are denoted by '0' while signatories are denoted by '1'\"\n",
    "coalition_stru =np.asarray([list(i) for i in itertools.product([0, 1], repeat=n_firm)])\n",
    "All_singelton = coalition_stru[0]\n",
    "Grand_coalition  = coalition_stru[-1]\n",
    "coalition_stru\n",
    "#coalition_stru[3]"
   ]
  },
  {
   "cell_type": "markdown",
   "metadata": {},
   "source": [
    "# 2.Coaltion and Singleton"
   ]
  },
  {
   "cell_type": "code",
   "execution_count": null,
   "metadata": {},
   "outputs": [],
   "source": [
    "#################################################################################\n",
    "#    II. Run the simulation for each agent -No feedback loop of the pollution    #\n",
    "##################################################################################\n",
    "for compteur in range (len(coalition_stru)): \n",
    "    #print(coalition_stru[compteur])\n",
    "    #''' 1. Identify signatory firms '''\n",
    "    signatory = np.where(coalition_stru[compteur] == 1) # Resultat: signatory = [firm1, firm 2] ; signatory = []\n",
    "    #''' 2. Run the optimisation problem for signartories to max the profit of the coalition '''\n",
    "    optimisation_coalition(signatory) #function taking the firms in the signatory and gives results after solving for the optimum value\n",
    "    \n",
    "    #''' 3. Identify singleton firms '''\n",
    "    singleton = np.where(coalition_stru[compteur] == 0)\n",
    "    #4.''' Run the optimisation problem for singelton to max own profit '''\n",
    "    optimisation_coalition(singleton)"
   ]
  },
  {
   "cell_type": "markdown",
   "metadata": {},
   "source": [
    "# I.Business Case 1: No enforcement mechanism \n",
    "\n",
    "##### 1.Condition to become a signatory: \n",
    "By joining the coalition, each firm agrees to abate by the following constraint: \n",
    "$$E^{signatory}_{SO_x} \\leq \\theta_{SO_x}$$\n",
    "$$E^{signatory}_{CO_2} \\leq \\theta_{CO_2} $$\n",
    "\n",
    "- $ \\theta $ : the coalition emission threshhold for $SO_x$ and $CO_2$\n",
    "\n",
    "##### 2.Perks of joining the coalition: \n",
    "The coalition sets the freight rate and shares of market demand for signatorie ??\n",
    "***For each firm i:*** \n",
    "$$ max_{(V_{t,i},q_{t,i},s_{t,i},\\rho_t)} ~\\ \\pi_{i} =\\sum_{firms} \\sum_{t=1}^{T} (1+r_{t,i})^{-t} * [\\rho_t * q_{t,i} - TC_{t,i}(V_{t,i})) - C_{delayed}*(x_{t,i} - q_{t,i})] $$\n"
   ]
  },
  {
   "cell_type": "markdown",
   "metadata": {},
   "source": [
    "$ $"
   ]
  },
  {
   "cell_type": "code",
   "execution_count": null,
   "metadata": {},
   "outputs": [],
   "source": [
    "# #################################################################################\n",
    "# #  Main Code for Computing Vessel Speed assuming the coalition's payoff is impacted #\n",
    "# #    by signatories and vice versa through Pollution and Damage functions #\n",
    "# ##################################################################################\n",
    "# # '''The coalition's payoff '' \n",
    "# def payoff_coaltion(speed_coalition): \n",
    "#     '''insert rest of code for coalition optimisation problem'''\n",
    "#     return coalition_payoff\n",
    "\n",
    "\n",
    "# # ''' Singeton's payoff '' \n",
    "# def payoff_singeltons(speed_singelton): \n",
    "#     (tax_carbon,tax_sulfur) = Taxation_scheme(speed_coalition,speed_singeltons,q_coalition, q_singeltons)\n",
    "#     '''insert rest of code for singelton optimisation problem'''\n",
    "#     return singelton_payoff"
   ]
  },
  {
   "cell_type": "markdown",
   "metadata": {},
   "source": [
    "### II.Business Case 1: Imposing a tax"
   ]
  },
  {
   "cell_type": "markdown",
   "metadata": {},
   "source": [
    " <font color='red'>\n",
    "\n",
    "Assume the existence of a regulatory agent govering the market, with the objective of minimising the indutry's emmision level of sulfur and carbon \n",
    "\n",
    "Assume the profits from the taxation scheme of the regulatory body would go to finance R&D in maritime shipping   \n",
    "\n",
    "we assume that the tax for sulfur and caron is a function of the industry's emmision\n",
    " \n",
    "Need more research to specify g. This will allow for the non-cooperative game between the coalition and singelton "
   ]
  },
  {
   "cell_type": "markdown",
   "metadata": {},
   "source": [
    "### Taxation Scheme Model:\n",
    "$$ tax_{SO_x} = g(E^{industry}_{SO_x}) $$\n",
    "$$ tax_{CO_2} = g(E^{industry}_{CO_2}) $$\n",
    "\n",
    "Assumes a non copperative game between the coalition and the singeltons"
   ]
  },
  {
   "cell_type": "code",
   "execution_count": null,
   "metadata": {},
   "outputs": [],
   "source": [
    "''' Taxation Scheme '''\n",
    "def Taxation_scheme(speed_coalition,speed_singeltons,q_coalition, q_singeltons): \n",
    "    '''This function will be be incorporated into the objective funtion'''\n",
    "    # \"1.Compute the singleton’s total emission levels\"\n",
    "    # \"2.Compute the coalition total emission levels\"\n",
    "    # \"3.Compute the industry’s emission levels\"\n",
    "    # \"4.Compute sulfur and carbon tax  for the industry\n",
    "    return tax"
   ]
  },
  {
   "cell_type": "code",
   "execution_count": null,
   "metadata": {},
   "outputs": [],
   "source": [
    "# #################################################################################\n",
    "# #  Main Code for Computing Vessel Speed assuming the coalition's payoff is impacted #\n",
    "# #    by signatories and vice versa through Pollution and Damage functions #\n",
    "# ##################################################################################\n",
    "\n",
    "# # '''The coalition's payoff '' \n",
    "# def payoff_coaltion(speed_coalition): \n",
    "#     (tax_carbon,tax_sulfur) = Taxation_scheme(speed_coalition,speed_singeltons,q_coalition, q_singeltons)\n",
    "#     '''insert rest of code for coalition optimisation problem'''\n",
    "#     return coalition_payoff\n",
    "\n",
    "# # ''' Singeton's payoff '' \n",
    "# def payoff_singeltons(speed_singelton): \n",
    "#     (tax_carbon,tax_sulfur) = Taxation_scheme(speed_coalition,speed_singeltons,q_coalition, q_singeltons)\n",
    "#     '''insert rest of code for singelton optimisation problem'''\n",
    "#     return singelton_payoff\n",
    "\n",
    "# # '''Initilzation''' \n",
    "# speed_coalition_init = np.array([0])\n",
    "# speed_singelton_init = np.array([0])\n",
    "\n",
    "# speed_singelton = speed_singelton_init\n",
    "# speed_coalition = speed_coalition_init \n",
    "\n",
    "# q_coalition = q_coalition_init\n",
    "# q_singeltons = q_coalition_init\n",
    "\n",
    "\n",
    "# change_speed_coalition= 2\n",
    "# change_speed_singelton= 2\n",
    "\n",
    "# #'''Solving for the optimum speed given the other agents' reaction  ''' #Reaction Functions\n",
    "# #while abs(change_speed_coalition) > 0.001 or abs(change_speed_singelton) > 0.001  :\n",
    "# #     moo = speed_coalition\n",
    "# #     zoo = speed_singelton\n",
    "# #     res1 = minimize(payoff_coaltion, speed_coalition_init, method='nelder-mead')\n",
    "# #     speed_coalition =res1.x\n",
    "# #     #print (\"Coalition Speed is\", speed_coalition, \"The coalition's payoff is \",payoff_coaltion(speed_coalition) )\n",
    "# #     #print (\"singelton speed \", speed_singelton, \"Singelton's payoff is \",payoff_singeltons(speed_singelton))\n",
    "# #     #print ('######################################################################')\n",
    "# #     res2 =  minimize(payoff_singeltons, speed_singelton_init, method='nelder-mead')\n",
    "# #     speed_singelton = res2.x\n",
    "# #     #print (\"Coalition Speed is\", speed_coalition, \"The coalition's payoff is \",payoff_coaltion(speed_coalition) )\n",
    "# #     #print (\"singelton speed \", speed_singelton, \"Singelton's payoff is \",payoff_singeltons(speed_singelton))\n",
    "# #     #print ('######################################################################')\n",
    "# #     change_speed_coalition = speed_coalition - moo\n",
    "# #     change_speed_singelton= speed_singelton - zoo\n",
    "# #     #print ('change is ',change_speed_coalition)"
   ]
  },
  {
   "cell_type": "markdown",
   "metadata": {},
   "source": [
    "# Analysis: Who bared the cost of abatement: \n",
    "\n",
    "## 1. Marginal Abatement Costs\n",
    "\n",
    "$$ MAC^{CO_2}_{i} = \\frac{ \\sum_t \\pi_t^{No_{abatement}} -  \\pi_t^{abatement}}{CO_2^{BAU} - CO_2}  $$\n",
    "\n",
    "$$ MAC^{SO_x}_{i} = \\frac{ \\sum_t \\pi_t^{No_{abatement}} -  \\pi_t^{abatement}}{SO_x^{BAU} - SO_x}  $$\n",
    "\n",
    "\n",
    "\n",
    "## 2. Passthrough: who bares the cost\n",
    "the cost pass-through theory is useful, but the estimation of the\n",
    "allocation share requires a set of assumptions on the price elasticity of supply and demand.\n",
    "The price elasticity of supply and demand can be expressed as:\n",
    "$$ \\eta_s  = \\frac{\\% change ~\\ in ~\\ quantity ~\\ supplied}{\\% change ~\\ in ~\\ price}$$\n",
    "$$ \\eta_d  = \\frac{\\% change ~\\ in ~\\ quantity ~\\ demanded}{\\% change ~\\ in ~\\ price}$$\n",
    "\n",
    "\n",
    "the amount of tax that will be borne by the shipper and ship-owner or ship-operator at period t.\n",
    "\n",
    "\n",
    " the fraction of the levy costs borne by the consumer, $\\epsilon$ : \n",
    "$$ \\epsilon = \\frac{\\eta_s} {\\eta_d + \\eta_s} $$\n",
    "\n"
   ]
  },
  {
   "cell_type": "code",
   "execution_count": null,
   "metadata": {},
   "outputs": [],
   "source": []
  }
 ],
 "metadata": {
  "kernelspec": {
   "display_name": "Python 3",
   "language": "python",
   "name": "python3"
  },
  "language_info": {
   "codemirror_mode": {
    "name": "ipython",
    "version": 3
   },
   "file_extension": ".py",
   "mimetype": "text/x-python",
   "name": "python",
   "nbconvert_exporter": "python",
   "pygments_lexer": "ipython3",
   "version": "3.7.7"
  }
 },
 "nbformat": 4,
 "nbformat_minor": 4
}
